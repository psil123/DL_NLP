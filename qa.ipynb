{
 "cells": [
  {
   "cell_type": "code",
   "execution_count": null,
   "metadata": {
    "id": "qIZ0e9H6gNU5"
   },
   "outputs": [],
   "source": [
    "import json\n",
    "with open(r\"train_qa.json\",\"r\") as read_file:\n",
    "  train=json.load(read_file)"
   ]
  },
  {
   "cell_type": "code",
   "execution_count": null,
   "metadata": {
    "id": "_Q2tJf6mYvMA"
   },
   "outputs": [],
   "source": [
    "train=train['data']"
   ]
  },
  {
   "cell_type": "code",
   "execution_count": null,
   "metadata": {
    "id": "pegUzDfK3Q_r"
   },
   "outputs": [],
   "source": [
    "import pandas as pd\n",
    "import numpy as np"
   ]
  },
  {
   "cell_type": "code",
   "execution_count": null,
   "metadata": {
    "colab": {
     "base_uri": "https://localhost:8080/",
     "height": 206
    },
    "id": "4g2bS148haLz",
    "outputId": "f5e9d782-e07f-4a68-c951-6cf49e6c00a5"
   },
   "outputs": [],
   "source": [
    "arrayForDF=[]\n",
    "for current_subject in train:\n",
    "  # print(current_subject)\n",
    "  subject = current_subject['title']\n",
    "  for current_context in current_subject['paragraphs']:\n",
    "    context = current_context['context'] \n",
    "    for current_question in current_context['qas']:\n",
    "      question = current_question['question']\n",
    "      if len(question) > 2:\n",
    "        is_impossible = current_question['is_impossible']\n",
    "        if is_impossible == False:\n",
    "          for answer in current_question['answers']:\n",
    "            answer_text = answer[\"text\"]\n",
    "            answer_start = answer[\"answer_start\"]\n",
    "\n",
    "            recode = {\n",
    "                \"answer_text\":answer_text,\n",
    "                \"answer_start\":answer_start,\n",
    "                \"question\":question,\n",
    "                \"context\":context,\n",
    "                \"subject\":subject\n",
    "            }\n",
    "\n",
    "            arrayForDF.append(recode)\n",
    "\n",
    "train_df = pd.DataFrame(arrayForDF)\n",
    "\n",
    "train_df.head()\n"
   ]
  },
  {
   "cell_type": "code",
   "execution_count": null,
   "metadata": {
    "colab": {
     "base_uri": "https://localhost:8080/"
    },
    "id": "gcPjqTuLa7Lj",
    "outputId": "15dc01e9-5203-4726-83ca-95f1cd973b15"
   },
   "outputs": [],
   "source": [
    "for i in range(0,len(train_df['question'])):\n",
    "  que=train_df['question'][i].lower()\n",
    "  if(que.find('why')!=-1 or que.find('how')!=-1):\n",
    "    train_df['question'][i]=np.nan"
   ]
  },
  {
   "cell_type": "code",
   "execution_count": null,
   "metadata": {
    "colab": {
     "base_uri": "https://localhost:8080/"
    },
    "id": "joyv4yM7Qa50",
    "outputId": "76cd766a-d977-46c6-e0dd-20069d0dae9f"
   },
   "outputs": [],
   "source": [
    "for i in range(0,len(train_df['answer_text'])):\n",
    "  ans=str(train_df['answer_text'][i].lower())\n",
    "  if(len(ans.split())>5):\n",
    "    train_df['answer_text'][i]=np.nan"
   ]
  },
  {
   "cell_type": "code",
   "execution_count": null,
   "metadata": {
    "colab": {
     "base_uri": "https://localhost:8080/"
    },
    "id": "VqIBHUKhQr1H",
    "outputId": "26f71446-178c-4fbe-c66f-1277f95bf2fa"
   },
   "outputs": [],
   "source": [
    "for i in range(0,len(train_df['context'])):\n",
    "  con=str(train_df['context'][i].lower())\n",
    "  if(len(con.split())>50):\n",
    "    train_df['context'][i]=np.nan"
   ]
  },
  {
   "cell_type": "code",
   "execution_count": null,
   "metadata": {
    "colab": {
     "base_uri": "https://localhost:8080/",
     "height": 423
    },
    "id": "Nyyq3RenHlPU",
    "outputId": "cf0d58cc-9072-4d33-8f47-4daff7de200f"
   },
   "outputs": [],
   "source": [
    "train_df.dropna(inplace=True)\n",
    "train_df=train_df.reset_index()\n",
    "train_df"
   ]
  },
  {
   "cell_type": "code",
   "execution_count": null,
   "metadata": {
    "colab": {
     "base_uri": "https://localhost:8080/"
    },
    "id": "08I_vqeXJHVO",
    "outputId": "8d0d728b-e30b-41e6-8c85-52bdfc8968c9"
   },
   "outputs": [],
   "source": [
    "len(train_df)"
   ]
  },
  {
   "cell_type": "markdown",
   "metadata": {
    "id": "tTVrgmec0jyr"
   },
   "source": [
    "#QA"
   ]
  },
  {
   "cell_type": "code",
   "execution_count": null,
   "metadata": {
    "id": "juI9axjAQN1z"
   },
   "outputs": [],
   "source": [
    "import keras\n",
    "from keras.models import Sequential, Model\n",
    "from keras.layers.embeddings import Embedding\n",
    "from keras.layers import Input, Activation, Dense, Permute, Dropout\n",
    "from keras.layers import add, dot, concatenate\n",
    "from keras.layers import LSTM, GRU\n",
    "from keras.utils.data_utils import get_file\n",
    "from keras.preprocessing.sequence import pad_sequences\n",
    "from keras import backend as K\n",
    "\n",
    "from functools import reduce\n",
    "import tarfile\n",
    "import numpy as np\n",
    "import re\n",
    "\n",
    "import IPython\n",
    "import matplotlib.pyplot as plt\n",
    "import pandas as pd"
   ]
  },
  {
   "cell_type": "code",
   "execution_count": null,
   "metadata": {
    "id": "zYBJmvMIQPMi"
   },
   "outputs": [],
   "source": [
    "def tokenize(sent):\n",
    "    return [ x.strip() for x in re.split('(\\W+)?', sent) if x.strip()]"
   ]
  },
  {
   "cell_type": "code",
   "execution_count": null,
   "metadata": {
    "id": "Q9rXPGkHQaj3"
   },
   "outputs": [],
   "source": [
    "def parse_stories(lines, only_supporting=False):\n",
    "    data = []\n",
    "    story = []\n",
    "    for line in lines:\n",
    "        line = line.decode('utf-8').strip()\n",
    "        nid, line = line.split(' ', 1)\n",
    "        nid = int(nid)\n",
    "        if nid == 1:\n",
    "            story = []\n",
    "        if '\\t' in line:\n",
    "            q, a, supporting = line.split('\\t')\n",
    "            q = tokenize(q)\n",
    "            substory = None\n",
    "            if only_supporting:\n",
    "                # Only select the related substory\n",
    "                supporting = map(int, supporting.split())\n",
    "                substory = [story[i - 1] for i in supporting]\n",
    "            else:\n",
    "                # Provide all the substories\n",
    "                substory = [x for x in story if x]\n",
    "            data.append((substory, q, a))\n",
    "            story.append('')\n",
    "        else:\n",
    "            sent = tokenize(line)\n",
    "            story.append(sent)\n",
    "    return data"
   ]
  },
  {
   "cell_type": "code",
   "execution_count": null,
   "metadata": {
    "id": "94_hJ93AQfBQ"
   },
   "outputs": [],
   "source": [
    "def get_stories(f, only_supporting=False, max_length=None):\n",
    "    data = parse_stories(f.readlines(), only_supporting=only_supporting)\n",
    "    flatten = lambda data: reduce(lambda x, y: x + y, data)\n",
    "    data = [(flatten(story), q, answer) for story, q, answer in data if not max_length or len(flatten(story)) < max_length]\n",
    "    return data"
   ]
  },
  {
   "cell_type": "code",
   "execution_count": null,
   "metadata": {
    "id": "fF0J5eJCQhV4"
   },
   "outputs": [],
   "source": [
    "def vectorize_stories(data, word_idx, story_maxlen, query_maxlen):\n",
    "    X = []\n",
    "    Xq = []\n",
    "    Y = []\n",
    "    for story, query, answer in data:\n",
    "        x = [word_idx[w] for w in story]\n",
    "        xq = [word_idx[w] for w in query]\n",
    "        y = np.zeros(len(word_idx) + 1)\n",
    "        y[word_idx[answer]] = 1\n",
    "        X.append(x)\n",
    "        Xq.append(xq)\n",
    "        Y.append(y)\n",
    "    return (pad_sequences(X, maxlen=story_maxlen),\n",
    "            pad_sequences(Xq, maxlen=query_maxlen), np.array(Y))"
   ]
  },
  {
   "cell_type": "code",
   "execution_count": null,
   "metadata": {
    "colab": {
     "base_uri": "https://localhost:8080/",
     "height": 423
    },
    "id": "ffs8kJAmQjYH",
    "outputId": "27a82171-9862-47c1-af4e-4e2a43ad15be"
   },
   "outputs": [
    {
     "data": {
      "text/html": [
       "\n",
       "  <div id=\"df-413ae5e0-529d-49b8-bb5a-fd1c878418d6\">\n",
       "    <div class=\"colab-df-container\">\n",
       "      <div>\n",
       "<style scoped>\n",
       "    .dataframe tbody tr th:only-of-type {\n",
       "        vertical-align: middle;\n",
       "    }\n",
       "\n",
       "    .dataframe tbody tr th {\n",
       "        vertical-align: top;\n",
       "    }\n",
       "\n",
       "    .dataframe thead th {\n",
       "        text-align: right;\n",
       "    }\n",
       "</style>\n",
       "<table border=\"1\" class=\"dataframe\">\n",
       "  <thead>\n",
       "    <tr style=\"text-align: right;\">\n",
       "      <th></th>\n",
       "      <th>index</th>\n",
       "      <th>answer_text</th>\n",
       "      <th>answer_start</th>\n",
       "      <th>question</th>\n",
       "      <th>context</th>\n",
       "      <th>subject</th>\n",
       "    </tr>\n",
       "  </thead>\n",
       "  <tbody>\n",
       "    <tr>\n",
       "      <th>0</th>\n",
       "      <td>315</td>\n",
       "      <td>Tidal</td>\n",
       "      <td>140</td>\n",
       "      <td>Beyonce released the song \"Formation\" on which...</td>\n",
       "      <td>On February 6, 2016, one day before her perfor...</td>\n",
       "      <td>Beyoncé</td>\n",
       "    </tr>\n",
       "    <tr>\n",
       "      <th>1</th>\n",
       "      <td>316</td>\n",
       "      <td>Formation</td>\n",
       "      <td>154</td>\n",
       "      <td>Beyonce's new single released before the super...</td>\n",
       "      <td>On February 6, 2016, one day before her perfor...</td>\n",
       "      <td>Beyoncé</td>\n",
       "    </tr>\n",
       "    <tr>\n",
       "      <th>2</th>\n",
       "      <td>317</td>\n",
       "      <td>February 6, 2016</td>\n",
       "      <td>3</td>\n",
       "      <td>What day did Beyonce release her single, Forma...</td>\n",
       "      <td>On February 6, 2016, one day before her perfor...</td>\n",
       "      <td>Beyoncé</td>\n",
       "    </tr>\n",
       "    <tr>\n",
       "      <th>3</th>\n",
       "      <td>319</td>\n",
       "      <td>Tidal</td>\n",
       "      <td>140</td>\n",
       "      <td>What was the name of the streaming service?</td>\n",
       "      <td>On February 6, 2016, one day before her perfor...</td>\n",
       "      <td>Beyoncé</td>\n",
       "    </tr>\n",
       "    <tr>\n",
       "      <th>4</th>\n",
       "      <td>320</td>\n",
       "      <td>music streaming</td>\n",
       "      <td>116</td>\n",
       "      <td>What kind of platform was the song released?</td>\n",
       "      <td>On February 6, 2016, one day before her perfor...</td>\n",
       "      <td>Beyoncé</td>\n",
       "    </tr>\n",
       "    <tr>\n",
       "      <th>...</th>\n",
       "      <td>...</td>\n",
       "      <td>...</td>\n",
       "      <td>...</td>\n",
       "      <td>...</td>\n",
       "      <td>...</td>\n",
       "      <td>...</td>\n",
       "    </tr>\n",
       "    <tr>\n",
       "      <th>3347</th>\n",
       "      <td>23215</td>\n",
       "      <td>1990</td>\n",
       "      <td>118</td>\n",
       "      <td>when was madonna's hit single \"vogue\" released?</td>\n",
       "      <td>The early 1990s additionally saw the rise in m...</td>\n",
       "      <td>House_music</td>\n",
       "    </tr>\n",
       "    <tr>\n",
       "      <th>3348</th>\n",
       "      <td>23216</td>\n",
       "      <td>1990s</td>\n",
       "      <td>10</td>\n",
       "      <td>what decade did house music hit the mainstream...</td>\n",
       "      <td>The early 1990s additionally saw the rise in m...</td>\n",
       "      <td>House_music</td>\n",
       "    </tr>\n",
       "    <tr>\n",
       "      <th>3349</th>\n",
       "      <td>23217</td>\n",
       "      <td>Madonna</td>\n",
       "      <td>108</td>\n",
       "      <td>who sang the hit single \"vogue\"?</td>\n",
       "      <td>The early 1990s additionally saw the rise in m...</td>\n",
       "      <td>House_music</td>\n",
       "    </tr>\n",
       "    <tr>\n",
       "      <th>3350</th>\n",
       "      <td>23261</td>\n",
       "      <td>its roots</td>\n",
       "      <td>110</td>\n",
       "      <td>There has been a reunification of contemporary...</td>\n",
       "      <td>In addition to these popular examples of house...</td>\n",
       "      <td>House_music</td>\n",
       "    </tr>\n",
       "    <tr>\n",
       "      <th>3351</th>\n",
       "      <td>23262</td>\n",
       "      <td>hip hop and R&amp;B</td>\n",
       "      <td>126</td>\n",
       "      <td>What genre of artists has recently turned to h...</td>\n",
       "      <td>In addition to these popular examples of house...</td>\n",
       "      <td>House_music</td>\n",
       "    </tr>\n",
       "  </tbody>\n",
       "</table>\n",
       "<p>3352 rows × 6 columns</p>\n",
       "</div>\n",
       "      <button class=\"colab-df-convert\" onclick=\"convertToInteractive('df-413ae5e0-529d-49b8-bb5a-fd1c878418d6')\"\n",
       "              title=\"Convert this dataframe to an interactive table.\"\n",
       "              style=\"display:none;\">\n",
       "        \n",
       "  <svg xmlns=\"http://www.w3.org/2000/svg\" height=\"24px\"viewBox=\"0 0 24 24\"\n",
       "       width=\"24px\">\n",
       "    <path d=\"M0 0h24v24H0V0z\" fill=\"none\"/>\n",
       "    <path d=\"M18.56 5.44l.94 2.06.94-2.06 2.06-.94-2.06-.94-.94-2.06-.94 2.06-2.06.94zm-11 1L8.5 8.5l.94-2.06 2.06-.94-2.06-.94L8.5 2.5l-.94 2.06-2.06.94zm10 10l.94 2.06.94-2.06 2.06-.94-2.06-.94-.94-2.06-.94 2.06-2.06.94z\"/><path d=\"M17.41 7.96l-1.37-1.37c-.4-.4-.92-.59-1.43-.59-.52 0-1.04.2-1.43.59L10.3 9.45l-7.72 7.72c-.78.78-.78 2.05 0 2.83L4 21.41c.39.39.9.59 1.41.59.51 0 1.02-.2 1.41-.59l7.78-7.78 2.81-2.81c.8-.78.8-2.07 0-2.86zM5.41 20L4 18.59l7.72-7.72 1.47 1.35L5.41 20z\"/>\n",
       "  </svg>\n",
       "      </button>\n",
       "      \n",
       "  <style>\n",
       "    .colab-df-container {\n",
       "      display:flex;\n",
       "      flex-wrap:wrap;\n",
       "      gap: 12px;\n",
       "    }\n",
       "\n",
       "    .colab-df-convert {\n",
       "      background-color: #E8F0FE;\n",
       "      border: none;\n",
       "      border-radius: 50%;\n",
       "      cursor: pointer;\n",
       "      display: none;\n",
       "      fill: #1967D2;\n",
       "      height: 32px;\n",
       "      padding: 0 0 0 0;\n",
       "      width: 32px;\n",
       "    }\n",
       "\n",
       "    .colab-df-convert:hover {\n",
       "      background-color: #E2EBFA;\n",
       "      box-shadow: 0px 1px 2px rgba(60, 64, 67, 0.3), 0px 1px 3px 1px rgba(60, 64, 67, 0.15);\n",
       "      fill: #174EA6;\n",
       "    }\n",
       "\n",
       "    [theme=dark] .colab-df-convert {\n",
       "      background-color: #3B4455;\n",
       "      fill: #D2E3FC;\n",
       "    }\n",
       "\n",
       "    [theme=dark] .colab-df-convert:hover {\n",
       "      background-color: #434B5C;\n",
       "      box-shadow: 0px 1px 3px 1px rgba(0, 0, 0, 0.15);\n",
       "      filter: drop-shadow(0px 1px 2px rgba(0, 0, 0, 0.3));\n",
       "      fill: #FFFFFF;\n",
       "    }\n",
       "  </style>\n",
       "\n",
       "      <script>\n",
       "        const buttonEl =\n",
       "          document.querySelector('#df-413ae5e0-529d-49b8-bb5a-fd1c878418d6 button.colab-df-convert');\n",
       "        buttonEl.style.display =\n",
       "          google.colab.kernel.accessAllowed ? 'block' : 'none';\n",
       "\n",
       "        async function convertToInteractive(key) {\n",
       "          const element = document.querySelector('#df-413ae5e0-529d-49b8-bb5a-fd1c878418d6');\n",
       "          const dataTable =\n",
       "            await google.colab.kernel.invokeFunction('convertToInteractive',\n",
       "                                                     [key], {});\n",
       "          if (!dataTable) return;\n",
       "\n",
       "          const docLinkHtml = 'Like what you see? Visit the ' +\n",
       "            '<a target=\"_blank\" href=https://colab.research.google.com/notebooks/data_table.ipynb>data table notebook</a>'\n",
       "            + ' to learn more about interactive tables.';\n",
       "          element.innerHTML = '';\n",
       "          dataTable['output_type'] = 'display_data';\n",
       "          await google.colab.output.renderOutput(dataTable, element);\n",
       "          const docLink = document.createElement('div');\n",
       "          docLink.innerHTML = docLinkHtml;\n",
       "          element.appendChild(docLink);\n",
       "        }\n",
       "      </script>\n",
       "    </div>\n",
       "  </div>\n",
       "  "
      ],
      "text/plain": [
       "      index       answer_text  answer_start  \\\n",
       "0       315             Tidal           140   \n",
       "1       316         Formation           154   \n",
       "2       317  February 6, 2016             3   \n",
       "3       319             Tidal           140   \n",
       "4       320   music streaming           116   \n",
       "...     ...               ...           ...   \n",
       "3347  23215              1990           118   \n",
       "3348  23216             1990s            10   \n",
       "3349  23217           Madonna           108   \n",
       "3350  23261         its roots           110   \n",
       "3351  23262   hip hop and R&B           126   \n",
       "\n",
       "                                               question  \\\n",
       "0     Beyonce released the song \"Formation\" on which...   \n",
       "1     Beyonce's new single released before the super...   \n",
       "2     What day did Beyonce release her single, Forma...   \n",
       "3           What was the name of the streaming service?   \n",
       "4          What kind of platform was the song released?   \n",
       "...                                                 ...   \n",
       "3347    when was madonna's hit single \"vogue\" released?   \n",
       "3348  what decade did house music hit the mainstream...   \n",
       "3349                   who sang the hit single \"vogue\"?   \n",
       "3350  There has been a reunification of contemporary...   \n",
       "3351  What genre of artists has recently turned to h...   \n",
       "\n",
       "                                                context      subject  \n",
       "0     On February 6, 2016, one day before her perfor...      Beyoncé  \n",
       "1     On February 6, 2016, one day before her perfor...      Beyoncé  \n",
       "2     On February 6, 2016, one day before her perfor...      Beyoncé  \n",
       "3     On February 6, 2016, one day before her perfor...      Beyoncé  \n",
       "4     On February 6, 2016, one day before her perfor...      Beyoncé  \n",
       "...                                                 ...          ...  \n",
       "3347  The early 1990s additionally saw the rise in m...  House_music  \n",
       "3348  The early 1990s additionally saw the rise in m...  House_music  \n",
       "3349  The early 1990s additionally saw the rise in m...  House_music  \n",
       "3350  In addition to these popular examples of house...  House_music  \n",
       "3351  In addition to these popular examples of house...  House_music  \n",
       "\n",
       "[3352 rows x 6 columns]"
      ]
     },
     "execution_count": 17,
     "metadata": {},
     "output_type": "execute_result"
    }
   ],
   "source": [
    "train_df"
   ]
  },
  {
   "cell_type": "code",
   "execution_count": null,
   "metadata": {
    "id": "tnfvDn0HRvch"
   },
   "outputs": [],
   "source": [
    "train_df.drop(columns=['answer_start','subject','index'],inplace=True)"
   ]
  },
  {
   "cell_type": "code",
   "execution_count": null,
   "metadata": {
    "colab": {
     "base_uri": "https://localhost:8080/",
     "height": 423
    },
    "id": "DlExHQBTqiXy",
    "outputId": "09043b64-2af2-46e5-9b59-d8f8db3e50f8"
   },
   "outputs": [
    {
     "data": {
      "text/html": [
       "\n",
       "  <div id=\"df-c594740d-0ec6-478c-862b-fb61ed3a6ced\">\n",
       "    <div class=\"colab-df-container\">\n",
       "      <div>\n",
       "<style scoped>\n",
       "    .dataframe tbody tr th:only-of-type {\n",
       "        vertical-align: middle;\n",
       "    }\n",
       "\n",
       "    .dataframe tbody tr th {\n",
       "        vertical-align: top;\n",
       "    }\n",
       "\n",
       "    .dataframe thead th {\n",
       "        text-align: right;\n",
       "    }\n",
       "</style>\n",
       "<table border=\"1\" class=\"dataframe\">\n",
       "  <thead>\n",
       "    <tr style=\"text-align: right;\">\n",
       "      <th></th>\n",
       "      <th>answer_text</th>\n",
       "      <th>question</th>\n",
       "      <th>context</th>\n",
       "    </tr>\n",
       "  </thead>\n",
       "  <tbody>\n",
       "    <tr>\n",
       "      <th>0</th>\n",
       "      <td>Tidal</td>\n",
       "      <td>Beyonce released the song \"Formation\" on which...</td>\n",
       "      <td>On February 6, 2016, one day before her perfor...</td>\n",
       "    </tr>\n",
       "    <tr>\n",
       "      <th>1</th>\n",
       "      <td>Formation</td>\n",
       "      <td>Beyonce's new single released before the super...</td>\n",
       "      <td>On February 6, 2016, one day before her perfor...</td>\n",
       "    </tr>\n",
       "    <tr>\n",
       "      <th>2</th>\n",
       "      <td>February 6, 2016</td>\n",
       "      <td>What day did Beyonce release her single, Forma...</td>\n",
       "      <td>On February 6, 2016, one day before her perfor...</td>\n",
       "    </tr>\n",
       "    <tr>\n",
       "      <th>3</th>\n",
       "      <td>Tidal</td>\n",
       "      <td>What was the name of the streaming service?</td>\n",
       "      <td>On February 6, 2016, one day before her perfor...</td>\n",
       "    </tr>\n",
       "    <tr>\n",
       "      <th>4</th>\n",
       "      <td>music streaming</td>\n",
       "      <td>What kind of platform was the song released?</td>\n",
       "      <td>On February 6, 2016, one day before her perfor...</td>\n",
       "    </tr>\n",
       "    <tr>\n",
       "      <th>...</th>\n",
       "      <td>...</td>\n",
       "      <td>...</td>\n",
       "      <td>...</td>\n",
       "    </tr>\n",
       "    <tr>\n",
       "      <th>3347</th>\n",
       "      <td>1990</td>\n",
       "      <td>when was madonna's hit single \"vogue\" released?</td>\n",
       "      <td>The early 1990s additionally saw the rise in m...</td>\n",
       "    </tr>\n",
       "    <tr>\n",
       "      <th>3348</th>\n",
       "      <td>1990s</td>\n",
       "      <td>what decade did house music hit the mainstream...</td>\n",
       "      <td>The early 1990s additionally saw the rise in m...</td>\n",
       "    </tr>\n",
       "    <tr>\n",
       "      <th>3349</th>\n",
       "      <td>Madonna</td>\n",
       "      <td>who sang the hit single \"vogue\"?</td>\n",
       "      <td>The early 1990s additionally saw the rise in m...</td>\n",
       "    </tr>\n",
       "    <tr>\n",
       "      <th>3350</th>\n",
       "      <td>its roots</td>\n",
       "      <td>There has been a reunification of contemporary...</td>\n",
       "      <td>In addition to these popular examples of house...</td>\n",
       "    </tr>\n",
       "    <tr>\n",
       "      <th>3351</th>\n",
       "      <td>hip hop and R&amp;B</td>\n",
       "      <td>What genre of artists has recently turned to h...</td>\n",
       "      <td>In addition to these popular examples of house...</td>\n",
       "    </tr>\n",
       "  </tbody>\n",
       "</table>\n",
       "<p>3352 rows × 3 columns</p>\n",
       "</div>\n",
       "      <button class=\"colab-df-convert\" onclick=\"convertToInteractive('df-c594740d-0ec6-478c-862b-fb61ed3a6ced')\"\n",
       "              title=\"Convert this dataframe to an interactive table.\"\n",
       "              style=\"display:none;\">\n",
       "        \n",
       "  <svg xmlns=\"http://www.w3.org/2000/svg\" height=\"24px\"viewBox=\"0 0 24 24\"\n",
       "       width=\"24px\">\n",
       "    <path d=\"M0 0h24v24H0V0z\" fill=\"none\"/>\n",
       "    <path d=\"M18.56 5.44l.94 2.06.94-2.06 2.06-.94-2.06-.94-.94-2.06-.94 2.06-2.06.94zm-11 1L8.5 8.5l.94-2.06 2.06-.94-2.06-.94L8.5 2.5l-.94 2.06-2.06.94zm10 10l.94 2.06.94-2.06 2.06-.94-2.06-.94-.94-2.06-.94 2.06-2.06.94z\"/><path d=\"M17.41 7.96l-1.37-1.37c-.4-.4-.92-.59-1.43-.59-.52 0-1.04.2-1.43.59L10.3 9.45l-7.72 7.72c-.78.78-.78 2.05 0 2.83L4 21.41c.39.39.9.59 1.41.59.51 0 1.02-.2 1.41-.59l7.78-7.78 2.81-2.81c.8-.78.8-2.07 0-2.86zM5.41 20L4 18.59l7.72-7.72 1.47 1.35L5.41 20z\"/>\n",
       "  </svg>\n",
       "      </button>\n",
       "      \n",
       "  <style>\n",
       "    .colab-df-container {\n",
       "      display:flex;\n",
       "      flex-wrap:wrap;\n",
       "      gap: 12px;\n",
       "    }\n",
       "\n",
       "    .colab-df-convert {\n",
       "      background-color: #E8F0FE;\n",
       "      border: none;\n",
       "      border-radius: 50%;\n",
       "      cursor: pointer;\n",
       "      display: none;\n",
       "      fill: #1967D2;\n",
       "      height: 32px;\n",
       "      padding: 0 0 0 0;\n",
       "      width: 32px;\n",
       "    }\n",
       "\n",
       "    .colab-df-convert:hover {\n",
       "      background-color: #E2EBFA;\n",
       "      box-shadow: 0px 1px 2px rgba(60, 64, 67, 0.3), 0px 1px 3px 1px rgba(60, 64, 67, 0.15);\n",
       "      fill: #174EA6;\n",
       "    }\n",
       "\n",
       "    [theme=dark] .colab-df-convert {\n",
       "      background-color: #3B4455;\n",
       "      fill: #D2E3FC;\n",
       "    }\n",
       "\n",
       "    [theme=dark] .colab-df-convert:hover {\n",
       "      background-color: #434B5C;\n",
       "      box-shadow: 0px 1px 3px 1px rgba(0, 0, 0, 0.15);\n",
       "      filter: drop-shadow(0px 1px 2px rgba(0, 0, 0, 0.3));\n",
       "      fill: #FFFFFF;\n",
       "    }\n",
       "  </style>\n",
       "\n",
       "      <script>\n",
       "        const buttonEl =\n",
       "          document.querySelector('#df-c594740d-0ec6-478c-862b-fb61ed3a6ced button.colab-df-convert');\n",
       "        buttonEl.style.display =\n",
       "          google.colab.kernel.accessAllowed ? 'block' : 'none';\n",
       "\n",
       "        async function convertToInteractive(key) {\n",
       "          const element = document.querySelector('#df-c594740d-0ec6-478c-862b-fb61ed3a6ced');\n",
       "          const dataTable =\n",
       "            await google.colab.kernel.invokeFunction('convertToInteractive',\n",
       "                                                     [key], {});\n",
       "          if (!dataTable) return;\n",
       "\n",
       "          const docLinkHtml = 'Like what you see? Visit the ' +\n",
       "            '<a target=\"_blank\" href=https://colab.research.google.com/notebooks/data_table.ipynb>data table notebook</a>'\n",
       "            + ' to learn more about interactive tables.';\n",
       "          element.innerHTML = '';\n",
       "          dataTable['output_type'] = 'display_data';\n",
       "          await google.colab.output.renderOutput(dataTable, element);\n",
       "          const docLink = document.createElement('div');\n",
       "          docLink.innerHTML = docLinkHtml;\n",
       "          element.appendChild(docLink);\n",
       "        }\n",
       "      </script>\n",
       "    </div>\n",
       "  </div>\n",
       "  "
      ],
      "text/plain": [
       "           answer_text                                           question  \\\n",
       "0                Tidal  Beyonce released the song \"Formation\" on which...   \n",
       "1            Formation  Beyonce's new single released before the super...   \n",
       "2     February 6, 2016  What day did Beyonce release her single, Forma...   \n",
       "3                Tidal        What was the name of the streaming service?   \n",
       "4      music streaming       What kind of platform was the song released?   \n",
       "...                ...                                                ...   \n",
       "3347              1990    when was madonna's hit single \"vogue\" released?   \n",
       "3348             1990s  what decade did house music hit the mainstream...   \n",
       "3349           Madonna                   who sang the hit single \"vogue\"?   \n",
       "3350         its roots  There has been a reunification of contemporary...   \n",
       "3351   hip hop and R&B  What genre of artists has recently turned to h...   \n",
       "\n",
       "                                                context  \n",
       "0     On February 6, 2016, one day before her perfor...  \n",
       "1     On February 6, 2016, one day before her perfor...  \n",
       "2     On February 6, 2016, one day before her perfor...  \n",
       "3     On February 6, 2016, one day before her perfor...  \n",
       "4     On February 6, 2016, one day before her perfor...  \n",
       "...                                                 ...  \n",
       "3347  The early 1990s additionally saw the rise in m...  \n",
       "3348  The early 1990s additionally saw the rise in m...  \n",
       "3349  The early 1990s additionally saw the rise in m...  \n",
       "3350  In addition to these popular examples of house...  \n",
       "3351  In addition to these popular examples of house...  \n",
       "\n",
       "[3352 rows x 3 columns]"
      ]
     },
     "execution_count": 19,
     "metadata": {},
     "output_type": "execute_result"
    }
   ],
   "source": [
    "train_df"
   ]
  },
  {
   "cell_type": "code",
   "execution_count": null,
   "metadata": {
    "id": "0iebdUCaQmHH"
   },
   "outputs": [],
   "source": [
    "from sklearn.model_selection import train_test_split\n",
    "train, test = train_test_split(train_df, test_size=0.2)"
   ]
  },
  {
   "cell_type": "code",
   "execution_count": null,
   "metadata": {
    "colab": {
     "base_uri": "https://localhost:8080/",
     "height": 423
    },
    "id": "PheUX2gRREjK",
    "outputId": "e83efe55-4611-4559-ec71-6b94391231ad"
   },
   "outputs": [
    {
     "data": {
      "text/html": [
       "\n",
       "  <div id=\"df-54778bfc-e9ee-412d-a218-2330f9fd770e\">\n",
       "    <div class=\"colab-df-container\">\n",
       "      <div>\n",
       "<style scoped>\n",
       "    .dataframe tbody tr th:only-of-type {\n",
       "        vertical-align: middle;\n",
       "    }\n",
       "\n",
       "    .dataframe tbody tr th {\n",
       "        vertical-align: top;\n",
       "    }\n",
       "\n",
       "    .dataframe thead th {\n",
       "        text-align: right;\n",
       "    }\n",
       "</style>\n",
       "<table border=\"1\" class=\"dataframe\">\n",
       "  <thead>\n",
       "    <tr style=\"text-align: right;\">\n",
       "      <th></th>\n",
       "      <th>answer_text</th>\n",
       "      <th>question</th>\n",
       "      <th>context</th>\n",
       "    </tr>\n",
       "  </thead>\n",
       "  <tbody>\n",
       "    <tr>\n",
       "      <th>3081</th>\n",
       "      <td>The Great British Bake Off</td>\n",
       "      <td>Nadiya Hussain, a Times Magazine column writer...</td>\n",
       "      <td>The Times Magazine features columns touching o...</td>\n",
       "    </tr>\n",
       "    <tr>\n",
       "      <th>1494</th>\n",
       "      <td>in the 1980s</td>\n",
       "      <td>When did Chen Fangyun come up with the idea fo...</td>\n",
       "      <td>The original idea of a Chinese satellite navig...</td>\n",
       "    </tr>\n",
       "    <tr>\n",
       "      <th>1336</th>\n",
       "      <td>coffee</td>\n",
       "      <td>Which product of Saint Helena was praised by N...</td>\n",
       "      <td>Owing to Napoleon's praise of Saint Helena’s c...</td>\n",
       "    </tr>\n",
       "    <tr>\n",
       "      <th>2492</th>\n",
       "      <td>convert to Catholicism</td>\n",
       "      <td>What social pressure was pressing down the peo...</td>\n",
       "      <td>The Orthodox nobles' rights were nominally equ...</td>\n",
       "    </tr>\n",
       "    <tr>\n",
       "      <th>463</th>\n",
       "      <td>Beautiful Life</td>\n",
       "      <td>What was the name of Nick Fradianis victory song?</td>\n",
       "      <td>Nick Fradiani won the season, defeating Clark ...</td>\n",
       "    </tr>\n",
       "    <tr>\n",
       "      <th>...</th>\n",
       "      <td>...</td>\n",
       "      <td>...</td>\n",
       "      <td>...</td>\n",
       "    </tr>\n",
       "    <tr>\n",
       "      <th>1268</th>\n",
       "      <td>Irish pubs</td>\n",
       "      <td>What is an example of a theme pub that caters ...</td>\n",
       "      <td>Pubs that cater for a niche clientele, such as...</td>\n",
       "    </tr>\n",
       "    <tr>\n",
       "      <th>3023</th>\n",
       "      <td>In the 18th century</td>\n",
       "      <td>When did the Black Guard exist?</td>\n",
       "      <td>In the 18th century, the Moroccan Sultan Moula...</td>\n",
       "    </tr>\n",
       "    <tr>\n",
       "      <th>587</th>\n",
       "      <td>1.6%</td>\n",
       "      <td>What is the percentage of Muslims living in th...</td>\n",
       "      <td>According to CIA World Factbook, the people of...</td>\n",
       "    </tr>\n",
       "    <tr>\n",
       "      <th>1985</th>\n",
       "      <td>academic computing</td>\n",
       "      <td>What division of the University of Kansas cont...</td>\n",
       "      <td>KU's academic computing department was an acti...</td>\n",
       "    </tr>\n",
       "    <tr>\n",
       "      <th>646</th>\n",
       "      <td>trades</td>\n",
       "      <td>What are people being trained for, mainly, in ...</td>\n",
       "      <td>The Polytechnic institutes in Pakistan, offer ...</td>\n",
       "    </tr>\n",
       "  </tbody>\n",
       "</table>\n",
       "<p>2681 rows × 3 columns</p>\n",
       "</div>\n",
       "      <button class=\"colab-df-convert\" onclick=\"convertToInteractive('df-54778bfc-e9ee-412d-a218-2330f9fd770e')\"\n",
       "              title=\"Convert this dataframe to an interactive table.\"\n",
       "              style=\"display:none;\">\n",
       "        \n",
       "  <svg xmlns=\"http://www.w3.org/2000/svg\" height=\"24px\"viewBox=\"0 0 24 24\"\n",
       "       width=\"24px\">\n",
       "    <path d=\"M0 0h24v24H0V0z\" fill=\"none\"/>\n",
       "    <path d=\"M18.56 5.44l.94 2.06.94-2.06 2.06-.94-2.06-.94-.94-2.06-.94 2.06-2.06.94zm-11 1L8.5 8.5l.94-2.06 2.06-.94-2.06-.94L8.5 2.5l-.94 2.06-2.06.94zm10 10l.94 2.06.94-2.06 2.06-.94-2.06-.94-.94-2.06-.94 2.06-2.06.94z\"/><path d=\"M17.41 7.96l-1.37-1.37c-.4-.4-.92-.59-1.43-.59-.52 0-1.04.2-1.43.59L10.3 9.45l-7.72 7.72c-.78.78-.78 2.05 0 2.83L4 21.41c.39.39.9.59 1.41.59.51 0 1.02-.2 1.41-.59l7.78-7.78 2.81-2.81c.8-.78.8-2.07 0-2.86zM5.41 20L4 18.59l7.72-7.72 1.47 1.35L5.41 20z\"/>\n",
       "  </svg>\n",
       "      </button>\n",
       "      \n",
       "  <style>\n",
       "    .colab-df-container {\n",
       "      display:flex;\n",
       "      flex-wrap:wrap;\n",
       "      gap: 12px;\n",
       "    }\n",
       "\n",
       "    .colab-df-convert {\n",
       "      background-color: #E8F0FE;\n",
       "      border: none;\n",
       "      border-radius: 50%;\n",
       "      cursor: pointer;\n",
       "      display: none;\n",
       "      fill: #1967D2;\n",
       "      height: 32px;\n",
       "      padding: 0 0 0 0;\n",
       "      width: 32px;\n",
       "    }\n",
       "\n",
       "    .colab-df-convert:hover {\n",
       "      background-color: #E2EBFA;\n",
       "      box-shadow: 0px 1px 2px rgba(60, 64, 67, 0.3), 0px 1px 3px 1px rgba(60, 64, 67, 0.15);\n",
       "      fill: #174EA6;\n",
       "    }\n",
       "\n",
       "    [theme=dark] .colab-df-convert {\n",
       "      background-color: #3B4455;\n",
       "      fill: #D2E3FC;\n",
       "    }\n",
       "\n",
       "    [theme=dark] .colab-df-convert:hover {\n",
       "      background-color: #434B5C;\n",
       "      box-shadow: 0px 1px 3px 1px rgba(0, 0, 0, 0.15);\n",
       "      filter: drop-shadow(0px 1px 2px rgba(0, 0, 0, 0.3));\n",
       "      fill: #FFFFFF;\n",
       "    }\n",
       "  </style>\n",
       "\n",
       "      <script>\n",
       "        const buttonEl =\n",
       "          document.querySelector('#df-54778bfc-e9ee-412d-a218-2330f9fd770e button.colab-df-convert');\n",
       "        buttonEl.style.display =\n",
       "          google.colab.kernel.accessAllowed ? 'block' : 'none';\n",
       "\n",
       "        async function convertToInteractive(key) {\n",
       "          const element = document.querySelector('#df-54778bfc-e9ee-412d-a218-2330f9fd770e');\n",
       "          const dataTable =\n",
       "            await google.colab.kernel.invokeFunction('convertToInteractive',\n",
       "                                                     [key], {});\n",
       "          if (!dataTable) return;\n",
       "\n",
       "          const docLinkHtml = 'Like what you see? Visit the ' +\n",
       "            '<a target=\"_blank\" href=https://colab.research.google.com/notebooks/data_table.ipynb>data table notebook</a>'\n",
       "            + ' to learn more about interactive tables.';\n",
       "          element.innerHTML = '';\n",
       "          dataTable['output_type'] = 'display_data';\n",
       "          await google.colab.output.renderOutput(dataTable, element);\n",
       "          const docLink = document.createElement('div');\n",
       "          docLink.innerHTML = docLinkHtml;\n",
       "          element.appendChild(docLink);\n",
       "        }\n",
       "      </script>\n",
       "    </div>\n",
       "  </div>\n",
       "  "
      ],
      "text/plain": [
       "                     answer_text  \\\n",
       "3081  The Great British Bake Off   \n",
       "1494                in the 1980s   \n",
       "1336                      coffee   \n",
       "2492      convert to Catholicism   \n",
       "463               Beautiful Life   \n",
       "...                          ...   \n",
       "1268                  Irish pubs   \n",
       "3023         In the 18th century   \n",
       "587                         1.6%   \n",
       "1985          academic computing   \n",
       "646                       trades   \n",
       "\n",
       "                                               question  \\\n",
       "3081  Nadiya Hussain, a Times Magazine column writer...   \n",
       "1494  When did Chen Fangyun come up with the idea fo...   \n",
       "1336  Which product of Saint Helena was praised by N...   \n",
       "2492  What social pressure was pressing down the peo...   \n",
       "463   What was the name of Nick Fradianis victory song?   \n",
       "...                                                 ...   \n",
       "1268  What is an example of a theme pub that caters ...   \n",
       "3023                    When did the Black Guard exist?   \n",
       "587   What is the percentage of Muslims living in th...   \n",
       "1985  What division of the University of Kansas cont...   \n",
       "646   What are people being trained for, mainly, in ...   \n",
       "\n",
       "                                                context  \n",
       "3081  The Times Magazine features columns touching o...  \n",
       "1494  The original idea of a Chinese satellite navig...  \n",
       "1336  Owing to Napoleon's praise of Saint Helena’s c...  \n",
       "2492  The Orthodox nobles' rights were nominally equ...  \n",
       "463   Nick Fradiani won the season, defeating Clark ...  \n",
       "...                                                 ...  \n",
       "1268  Pubs that cater for a niche clientele, such as...  \n",
       "3023  In the 18th century, the Moroccan Sultan Moula...  \n",
       "587   According to CIA World Factbook, the people of...  \n",
       "1985  KU's academic computing department was an acti...  \n",
       "646   The Polytechnic institutes in Pakistan, offer ...  \n",
       "\n",
       "[2681 rows x 3 columns]"
      ]
     },
     "execution_count": 21,
     "metadata": {},
     "output_type": "execute_result"
    }
   ],
   "source": [
    "train"
   ]
  },
  {
   "cell_type": "code",
   "execution_count": null,
   "metadata": {
    "id": "HXHyTm7aRF0a"
   },
   "outputs": [],
   "source": [
    "train=train[train.columns[::-1]]\n",
    "test=test[test.columns[::-1]]"
   ]
  },
  {
   "cell_type": "code",
   "execution_count": null,
   "metadata": {
    "id": "qSTjfzVt-64Z"
   },
   "outputs": [],
   "source": []
  },
  {
   "cell_type": "code",
   "execution_count": null,
   "metadata": {
    "id": "NtoPTxaYIYIZ"
   },
   "outputs": [],
   "source": [
    "import gensim\n",
    "from gensim.models import Word2Vec\n",
    "train['context']=train['context'].apply(lambda x: gensim.utils.simple_preprocess(x))\n",
    "train['question']=train['question'].apply(lambda x: gensim.utils.simple_preprocess(str(x)))"
   ]
  },
  {
   "cell_type": "code",
   "execution_count": null,
   "metadata": {
    "colab": {
     "base_uri": "https://localhost:8080/",
     "height": 423
    },
    "id": "-QhW__fLJepw",
    "outputId": "3a5fc4bd-55f5-4b61-a068-161ee4ed7cc0"
   },
   "outputs": [
    {
     "data": {
      "text/html": [
       "\n",
       "  <div id=\"df-0e39358b-5db6-43bc-8913-463d604d1929\">\n",
       "    <div class=\"colab-df-container\">\n",
       "      <div>\n",
       "<style scoped>\n",
       "    .dataframe tbody tr th:only-of-type {\n",
       "        vertical-align: middle;\n",
       "    }\n",
       "\n",
       "    .dataframe tbody tr th {\n",
       "        vertical-align: top;\n",
       "    }\n",
       "\n",
       "    .dataframe thead th {\n",
       "        text-align: right;\n",
       "    }\n",
       "</style>\n",
       "<table border=\"1\" class=\"dataframe\">\n",
       "  <thead>\n",
       "    <tr style=\"text-align: right;\">\n",
       "      <th></th>\n",
       "      <th>context</th>\n",
       "      <th>question</th>\n",
       "      <th>answer_text</th>\n",
       "    </tr>\n",
       "  </thead>\n",
       "  <tbody>\n",
       "    <tr>\n",
       "      <th>3081</th>\n",
       "      <td>[the, times, magazine, features, columns, touc...</td>\n",
       "      <td>[nadiya, hussain, times, magazine, column, wri...</td>\n",
       "      <td>The Great British Bake Off</td>\n",
       "    </tr>\n",
       "    <tr>\n",
       "      <th>1494</th>\n",
       "      <td>[the, original, idea, of, chinese, satellite, ...</td>\n",
       "      <td>[when, did, chen, fangyun, come, up, with, the...</td>\n",
       "      <td>in the 1980s</td>\n",
       "    </tr>\n",
       "    <tr>\n",
       "      <th>1336</th>\n",
       "      <td>[owing, to, napoleon, praise, of, saint, helen...</td>\n",
       "      <td>[which, product, of, saint, helena, was, prais...</td>\n",
       "      <td>coffee</td>\n",
       "    </tr>\n",
       "    <tr>\n",
       "      <th>2492</th>\n",
       "      <td>[the, orthodox, nobles, rights, were, nominall...</td>\n",
       "      <td>[what, social, pressure, was, pressing, down, ...</td>\n",
       "      <td>convert to Catholicism</td>\n",
       "    </tr>\n",
       "    <tr>\n",
       "      <th>463</th>\n",
       "      <td>[nick, fradiani, won, the, season, defeating, ...</td>\n",
       "      <td>[what, was, the, name, of, nick, fradianis, vi...</td>\n",
       "      <td>Beautiful Life</td>\n",
       "    </tr>\n",
       "    <tr>\n",
       "      <th>...</th>\n",
       "      <td>...</td>\n",
       "      <td>...</td>\n",
       "      <td>...</td>\n",
       "    </tr>\n",
       "    <tr>\n",
       "      <th>1268</th>\n",
       "      <td>[pubs, that, cater, for, niche, clientele, suc...</td>\n",
       "      <td>[what, is, an, example, of, theme, pub, that, ...</td>\n",
       "      <td>Irish pubs</td>\n",
       "    </tr>\n",
       "    <tr>\n",
       "      <th>3023</th>\n",
       "      <td>[in, the, th, century, the, moroccan, sultan, ...</td>\n",
       "      <td>[when, did, the, black, guard, exist]</td>\n",
       "      <td>In the 18th century</td>\n",
       "    </tr>\n",
       "    <tr>\n",
       "      <th>587</th>\n",
       "      <td>[according, to, cia, world, factbook, the, peo...</td>\n",
       "      <td>[what, is, the, percentage, of, muslims, livin...</td>\n",
       "      <td>1.6%</td>\n",
       "    </tr>\n",
       "    <tr>\n",
       "      <th>1985</th>\n",
       "      <td>[ku, academic, computing, department, was, an,...</td>\n",
       "      <td>[what, division, of, the, university, of, kans...</td>\n",
       "      <td>academic computing</td>\n",
       "    </tr>\n",
       "    <tr>\n",
       "      <th>646</th>\n",
       "      <td>[the, polytechnic, institutes, in, pakistan, o...</td>\n",
       "      <td>[what, are, people, being, trained, for, mainl...</td>\n",
       "      <td>trades</td>\n",
       "    </tr>\n",
       "  </tbody>\n",
       "</table>\n",
       "<p>2681 rows × 3 columns</p>\n",
       "</div>\n",
       "      <button class=\"colab-df-convert\" onclick=\"convertToInteractive('df-0e39358b-5db6-43bc-8913-463d604d1929')\"\n",
       "              title=\"Convert this dataframe to an interactive table.\"\n",
       "              style=\"display:none;\">\n",
       "        \n",
       "  <svg xmlns=\"http://www.w3.org/2000/svg\" height=\"24px\"viewBox=\"0 0 24 24\"\n",
       "       width=\"24px\">\n",
       "    <path d=\"M0 0h24v24H0V0z\" fill=\"none\"/>\n",
       "    <path d=\"M18.56 5.44l.94 2.06.94-2.06 2.06-.94-2.06-.94-.94-2.06-.94 2.06-2.06.94zm-11 1L8.5 8.5l.94-2.06 2.06-.94-2.06-.94L8.5 2.5l-.94 2.06-2.06.94zm10 10l.94 2.06.94-2.06 2.06-.94-2.06-.94-.94-2.06-.94 2.06-2.06.94z\"/><path d=\"M17.41 7.96l-1.37-1.37c-.4-.4-.92-.59-1.43-.59-.52 0-1.04.2-1.43.59L10.3 9.45l-7.72 7.72c-.78.78-.78 2.05 0 2.83L4 21.41c.39.39.9.59 1.41.59.51 0 1.02-.2 1.41-.59l7.78-7.78 2.81-2.81c.8-.78.8-2.07 0-2.86zM5.41 20L4 18.59l7.72-7.72 1.47 1.35L5.41 20z\"/>\n",
       "  </svg>\n",
       "      </button>\n",
       "      \n",
       "  <style>\n",
       "    .colab-df-container {\n",
       "      display:flex;\n",
       "      flex-wrap:wrap;\n",
       "      gap: 12px;\n",
       "    }\n",
       "\n",
       "    .colab-df-convert {\n",
       "      background-color: #E8F0FE;\n",
       "      border: none;\n",
       "      border-radius: 50%;\n",
       "      cursor: pointer;\n",
       "      display: none;\n",
       "      fill: #1967D2;\n",
       "      height: 32px;\n",
       "      padding: 0 0 0 0;\n",
       "      width: 32px;\n",
       "    }\n",
       "\n",
       "    .colab-df-convert:hover {\n",
       "      background-color: #E2EBFA;\n",
       "      box-shadow: 0px 1px 2px rgba(60, 64, 67, 0.3), 0px 1px 3px 1px rgba(60, 64, 67, 0.15);\n",
       "      fill: #174EA6;\n",
       "    }\n",
       "\n",
       "    [theme=dark] .colab-df-convert {\n",
       "      background-color: #3B4455;\n",
       "      fill: #D2E3FC;\n",
       "    }\n",
       "\n",
       "    [theme=dark] .colab-df-convert:hover {\n",
       "      background-color: #434B5C;\n",
       "      box-shadow: 0px 1px 3px 1px rgba(0, 0, 0, 0.15);\n",
       "      filter: drop-shadow(0px 1px 2px rgba(0, 0, 0, 0.3));\n",
       "      fill: #FFFFFF;\n",
       "    }\n",
       "  </style>\n",
       "\n",
       "      <script>\n",
       "        const buttonEl =\n",
       "          document.querySelector('#df-0e39358b-5db6-43bc-8913-463d604d1929 button.colab-df-convert');\n",
       "        buttonEl.style.display =\n",
       "          google.colab.kernel.accessAllowed ? 'block' : 'none';\n",
       "\n",
       "        async function convertToInteractive(key) {\n",
       "          const element = document.querySelector('#df-0e39358b-5db6-43bc-8913-463d604d1929');\n",
       "          const dataTable =\n",
       "            await google.colab.kernel.invokeFunction('convertToInteractive',\n",
       "                                                     [key], {});\n",
       "          if (!dataTable) return;\n",
       "\n",
       "          const docLinkHtml = 'Like what you see? Visit the ' +\n",
       "            '<a target=\"_blank\" href=https://colab.research.google.com/notebooks/data_table.ipynb>data table notebook</a>'\n",
       "            + ' to learn more about interactive tables.';\n",
       "          element.innerHTML = '';\n",
       "          dataTable['output_type'] = 'display_data';\n",
       "          await google.colab.output.renderOutput(dataTable, element);\n",
       "          const docLink = document.createElement('div');\n",
       "          docLink.innerHTML = docLinkHtml;\n",
       "          element.appendChild(docLink);\n",
       "        }\n",
       "      </script>\n",
       "    </div>\n",
       "  </div>\n",
       "  "
      ],
      "text/plain": [
       "                                                context  \\\n",
       "3081  [the, times, magazine, features, columns, touc...   \n",
       "1494  [the, original, idea, of, chinese, satellite, ...   \n",
       "1336  [owing, to, napoleon, praise, of, saint, helen...   \n",
       "2492  [the, orthodox, nobles, rights, were, nominall...   \n",
       "463   [nick, fradiani, won, the, season, defeating, ...   \n",
       "...                                                 ...   \n",
       "1268  [pubs, that, cater, for, niche, clientele, suc...   \n",
       "3023  [in, the, th, century, the, moroccan, sultan, ...   \n",
       "587   [according, to, cia, world, factbook, the, peo...   \n",
       "1985  [ku, academic, computing, department, was, an,...   \n",
       "646   [the, polytechnic, institutes, in, pakistan, o...   \n",
       "\n",
       "                                               question  \\\n",
       "3081  [nadiya, hussain, times, magazine, column, wri...   \n",
       "1494  [when, did, chen, fangyun, come, up, with, the...   \n",
       "1336  [which, product, of, saint, helena, was, prais...   \n",
       "2492  [what, social, pressure, was, pressing, down, ...   \n",
       "463   [what, was, the, name, of, nick, fradianis, vi...   \n",
       "...                                                 ...   \n",
       "1268  [what, is, an, example, of, theme, pub, that, ...   \n",
       "3023              [when, did, the, black, guard, exist]   \n",
       "587   [what, is, the, percentage, of, muslims, livin...   \n",
       "1985  [what, division, of, the, university, of, kans...   \n",
       "646   [what, are, people, being, trained, for, mainl...   \n",
       "\n",
       "                     answer_text  \n",
       "3081  The Great British Bake Off  \n",
       "1494                in the 1980s  \n",
       "1336                      coffee  \n",
       "2492      convert to Catholicism  \n",
       "463               Beautiful Life  \n",
       "...                          ...  \n",
       "1268                  Irish pubs  \n",
       "3023         In the 18th century  \n",
       "587                         1.6%  \n",
       "1985          academic computing  \n",
       "646                       trades  \n",
       "\n",
       "[2681 rows x 3 columns]"
      ]
     },
     "execution_count": 25,
     "metadata": {},
     "output_type": "execute_result"
    }
   ],
   "source": [
    "train"
   ]
  },
  {
   "cell_type": "code",
   "execution_count": null,
   "metadata": {
    "colab": {
     "base_uri": "https://localhost:8080/"
    },
    "id": "IfW5hTIOrLRM",
    "outputId": "6a0e8a3b-6b1b-43b7-f19b-4ea45122d627"
   },
   "outputs": [
    {
     "name": "stdout",
     "output_type": "stream",
     "text": [
      "(list(['the', 'times', 'magazine', 'features', 'columns', 'touching', 'on', 'various', 'subjects', 'such', 'as', 'celebrities', 'fashion', 'and', 'beauty', 'food', 'and', 'drink', 'homes', 'and', 'gardens', 'or', 'simply', 'writers', 'anecdotes', 'notable', 'contributors', 'include', 'giles', 'coren', 'food', 'and', 'drink', 'writer', 'of', 'the', 'year', 'in', 'and', 'nadiya', 'hussain', 'winner', 'of', 'bbc', 'the', 'great', 'british', 'bake', 'off']), list(['nadiya', 'hussain', 'times', 'magazine', 'column', 'writer', 'is', 'known', 'for', 'being', 'the', 'winner', 'of', 'what', 'bbc', 'contest']), 'The Great British Bake Off')\n"
     ]
    }
   ],
   "source": [
    "train_records=train.to_records(index=False)\n",
    "train_records = list(train_records)\n",
    "print(train_records[0])"
   ]
  },
  {
   "cell_type": "code",
   "execution_count": null,
   "metadata": {
    "colab": {
     "base_uri": "https://localhost:8080/"
    },
    "id": "a3bjGvT6YdvV",
    "outputId": "45cf4714-7938-40e0-9037-dfe7a200c1df"
   },
   "outputs": [
    {
     "name": "stdout",
     "output_type": "stream",
     "text": [
      "(list(['the', 'first', 'actual', 'usage', 'of', 'the', 'term', 'prime', 'minister', 'or', 'premier', 'ministre', 'citation', 'needed', 'was', 'used', 'by', 'cardinal', 'richelieu', 'when', 'in', 'he', 'was', 'named', 'to', 'head', 'the', 'royal', 'council', 'as', 'prime', 'minister', 'of', 'france', 'louis', 'xiv', 'and', 'his', 'descendants', 'generally', 'attempted', 'to', 'avoid', 'giving', 'this', 'title', 'to', 'their', 'chief', 'ministers']), list(['what', 'country', 'did', 'richelieu', 'serve', 'as', 'prime', 'minister', 'for']), 'France')\n"
     ]
    }
   ],
   "source": [
    "print(train_records[200])"
   ]
  },
  {
   "cell_type": "code",
   "execution_count": null,
   "metadata": {
    "id": "2vWY-KwEJwRx"
   },
   "outputs": [],
   "source": [
    "test['question']=test['question'].apply(lambda x: gensim.utils.simple_preprocess(x))\n",
    "test['context']=test['context'].apply(lambda x: gensim.utils.simple_preprocess(x))"
   ]
  },
  {
   "cell_type": "code",
   "execution_count": null,
   "metadata": {
    "colab": {
     "base_uri": "https://localhost:8080/"
    },
    "id": "bskm6OviRFHf",
    "outputId": "b11c3706-02e2-45b0-c496-ede6e667a838"
   },
   "outputs": [
    {
     "name": "stdout",
     "output_type": "stream",
     "text": [
      "(list(['uncompressed', 'audio', 'as', 'stored', 'on', 'an', 'audio', 'cd', 'has', 'bit', 'rate', 'of', 'kbit', 'bit', 'sample', 'samples', 'second', 'channels', 'bits', 'kilobit', 'so', 'the', 'bitrates', 'and', 'kbit', 'represent', 'compression', 'ratios', 'of', 'approximately', 'and', 'respectively']), list(['what', 'would', 'bit', 'rate', 'of', 'kbit', 'have', 'for', 'compression', 'ratio']), '7:1')\n"
     ]
    }
   ],
   "source": [
    "test_records=test.to_records(index=False)\n",
    "test_records = list(test_records)\n",
    "print(test_records[0])"
   ]
  },
  {
   "cell_type": "code",
   "execution_count": null,
   "metadata": {
    "id": "bwJy3J5FyR-5"
   },
   "outputs": [],
   "source": [
    "vocab = set()\n",
    "for story, q, answer in train_records + test_records:\n",
    "    vocab |= set(story + q + [answer])\n",
    "vocab = sorted(vocab)\n",
    "\n",
    "vocab_size = len(vocab) + 1\n",
    "story_maxlen = max(map(len, (x for x, _, _ in train_records + test_records)))\n",
    "query_maxlen = max(map(len, (x for _, x, _ in train_records + test_records)))"
   ]
  },
  {
   "cell_type": "code",
   "execution_count": null,
   "metadata": {
    "colab": {
     "base_uri": "https://localhost:8080/"
    },
    "id": "Y98ls_1I0mXr",
    "outputId": "bf0471a6-7d54-428c-8555-a7d0330aa852"
   },
   "outputs": [
    {
     "data": {
      "text/plain": [
       "(55, 30)"
      ]
     },
     "execution_count": 31,
     "metadata": {},
     "output_type": "execute_result"
    }
   ],
   "source": [
    "story_maxlen,query_maxlen"
   ]
  },
  {
   "cell_type": "code",
   "execution_count": null,
   "metadata": {
    "colab": {
     "base_uri": "https://localhost:8080/"
    },
    "id": "OobDCOpyADsx",
    "outputId": "4791707f-4083-41e3-a15f-c553ef1d727c"
   },
   "outputs": [
    {
     "data": {
      "text/plain": [
       "11841"
      ]
     },
     "execution_count": 32,
     "metadata": {},
     "output_type": "execute_result"
    }
   ],
   "source": [
    "# vocab[1]\n",
    "vocab_size"
   ]
  },
  {
   "cell_type": "code",
   "execution_count": null,
   "metadata": {
    "colab": {
     "base_uri": "https://localhost:8080/"
    },
    "id": "Lf6HPDMVfxvN",
    "outputId": "5c436bae-9289-4c1a-d0be-8b7d0caddea3"
   },
   "outputs": [
    {
     "name": "stdout",
     "output_type": "stream",
     "text": [
      "-\n",
      "Vocab size: 11841 unique words\n",
      "Story max length: 55 words\n",
      "Query max length: 30 words\n",
      "Number of training stories: 2681\n",
      "Number of test stories: 671\n",
      "-\n",
      "Here's what a \"story\" tuple looks like (input, query, answer):\n",
      "(list(['the', 'times', 'magazine', 'features', 'columns', 'touching', 'on', 'various', 'subjects', 'such', 'as', 'celebrities', 'fashion', 'and', 'beauty', 'food', 'and', 'drink', 'homes', 'and', 'gardens', 'or', 'simply', 'writers', 'anecdotes', 'notable', 'contributors', 'include', 'giles', 'coren', 'food', 'and', 'drink', 'writer', 'of', 'the', 'year', 'in', 'and', 'nadiya', 'hussain', 'winner', 'of', 'bbc', 'the', 'great', 'british', 'bake', 'off']), list(['nadiya', 'hussain', 'times', 'magazine', 'column', 'writer', 'is', 'known', 'for', 'being', 'the', 'winner', 'of', 'what', 'bbc', 'contest']), 'The Great British Bake Off')\n",
      "-\n",
      "Vectorizing the word sequences...\n"
     ]
    }
   ],
   "source": [
    "print('-')\n",
    "print('Vocab size:', vocab_size, 'unique words')\n",
    "print('Story max length:', story_maxlen, 'words')\n",
    "print('Query max length:', query_maxlen, 'words')\n",
    "print('Number of training stories:', len(train_records))\n",
    "print('Number of test stories:', len(test_records))\n",
    "print('-')\n",
    "print('Here\\'s what a \"story\" tuple looks like (input, query, answer):')\n",
    "print(train_records[0])\n",
    "print('-')\n",
    "print('Vectorizing the word sequences...')"
   ]
  },
  {
   "cell_type": "code",
   "execution_count": null,
   "metadata": {
    "id": "KbH469-uzfDz"
   },
   "outputs": [],
   "source": [
    "word_idx = dict((c, i + 1) for i, c in enumerate(vocab))\n",
    "idx_word = dict((i+1, c) for i,c in enumerate(vocab))\n",
    "inputs_train, queries_train, answers_train = vectorize_stories(train_records,\n",
    "                                                               word_idx,\n",
    "                                                               story_maxlen,\n",
    "                                                               query_maxlen)"
   ]
  },
  {
   "cell_type": "code",
   "execution_count": null,
   "metadata": {
    "id": "-AjdSwbgUle9"
   },
   "outputs": [],
   "source": [
    "inputs_test, queries_test, answers_test = vectorize_stories(test_records,\n",
    "                                                            word_idx,\n",
    "                                                            story_maxlen,\n",
    "                                                            query_maxlen)"
   ]
  },
  {
   "cell_type": "code",
   "execution_count": null,
   "metadata": {
    "colab": {
     "base_uri": "https://localhost:8080/"
    },
    "id": "Soz2RdePfoO8",
    "outputId": "3750fe3c-fe42-4de7-a0db-308af329cc57"
   },
   "outputs": [
    {
     "name": "stdout",
     "output_type": "stream",
     "text": [
      "-\n",
      "inputs: integer tensor of shape (samples, max_length)\n",
      "inputs_train shape: (2681, 55)\n",
      "inputs_test shape: (671, 55)\n",
      "-\n",
      "queries: integer tensor of shape (samples, max_length)\n",
      "queries_train shape: (2681, 30)\n",
      "queries_test shape: (671, 30)\n",
      "-\n",
      "answers: binary (1 or 0) tensor of shape (samples, vocab_size)\n",
      "answers_train shape: (2681, 11841)\n",
      "answers_test shape: (671, 11841)\n",
      "-\n",
      "Compiling...\n"
     ]
    }
   ],
   "source": [
    "print('-')\n",
    "print('inputs: integer tensor of shape (samples, max_length)')\n",
    "print('inputs_train shape:', inputs_train.shape)\n",
    "print('inputs_test shape:', inputs_test.shape)\n",
    "print('-')\n",
    "print('queries: integer tensor of shape (samples, max_length)')\n",
    "print('queries_train shape:', queries_train.shape)\n",
    "print('queries_test shape:', queries_test.shape)\n",
    "print('-')\n",
    "print('answers: binary (1 or 0) tensor of shape (samples, vocab_size)')\n",
    "print('answers_train shape:', answers_train.shape)\n",
    "print('answers_test shape:', answers_test.shape)\n",
    "print('-')\n",
    "print('Compiling...')"
   ]
  },
  {
   "cell_type": "code",
   "execution_count": null,
   "metadata": {
    "colab": {
     "base_uri": "https://localhost:8080/"
    },
    "id": "Pi9fAUaN512D",
    "outputId": "8e19297d-6be8-4332-8379-a71b9ac632a3"
   },
   "outputs": [
    {
     "data": {
      "text/plain": [
       "((2681, 55), (2681, 30), (2681, 11841))"
      ]
     },
     "execution_count": 37,
     "metadata": {},
     "output_type": "execute_result"
    }
   ],
   "source": [
    "inputs_train.shape, queries_train.shape, answers_train.shape"
   ]
  },
  {
   "cell_type": "code",
   "execution_count": null,
   "metadata": {
    "id": "D78WPRvTrkK2"
   },
   "outputs": [],
   "source": [
    "train_epochs = 1000\n",
    "batch_size = 32\n",
    "lstm_size = 64"
   ]
  },
  {
   "cell_type": "code",
   "execution_count": null,
   "metadata": {
    "colab": {
     "base_uri": "https://localhost:8080/"
    },
    "id": "tnya9VYZjBW9",
    "outputId": "b797f648-9c50-41cc-ee17-3f566d0109bf"
   },
   "outputs": [
    {
     "data": {
      "text/plain": [
       "(55, 30, 11841)"
      ]
     },
     "execution_count": 39,
     "metadata": {},
     "output_type": "execute_result"
    }
   ],
   "source": [
    "story_maxlen,query_maxlen,vocab_size"
   ]
  },
  {
   "cell_type": "code",
   "execution_count": null,
   "metadata": {
    "colab": {
     "base_uri": "https://localhost:8080/"
    },
    "id": "TMtH-FY7BVVE",
    "outputId": "e184008b-814b-4a16-901c-d1161551ec96"
   },
   "outputs": [
    {
     "name": "stdout",
     "output_type": "stream",
     "text": [
      "Input sequence: KerasTensor(type_spec=TensorSpec(shape=(None, 55), dtype=tf.float32, name='input_1'), name='input_1', description=\"created by layer 'input_1'\")\n",
      "Question: KerasTensor(type_spec=TensorSpec(shape=(None, 30), dtype=tf.float32, name='input_2'), name='input_2', description=\"created by layer 'input_2'\")\n"
     ]
    }
   ],
   "source": [
    "input_sequence = Input((story_maxlen,))\n",
    "question = Input((query_maxlen,))\n",
    "\n",
    "print('Input sequence:', input_sequence)\n",
    "print('Question:', question)\n",
    "\n",
    "input_encoder_m = Sequential()\n",
    "input_encoder_m.add(Embedding(input_dim=vocab_size,\n",
    "                              output_dim=64))\n",
    "input_encoder_m.add(Dropout(0.3))\n",
    "\n",
    "input_encoder_c = Sequential()\n",
    "input_encoder_c.add(Embedding(input_dim=vocab_size,\n",
    "                              output_dim=query_maxlen))\n",
    "input_encoder_c.add(Dropout(0.3))\n",
    "\n",
    "question_encoder = Sequential()\n",
    "question_encoder.add(Embedding(input_dim=vocab_size,\n",
    "                               output_dim=64,\n",
    "                               input_length=query_maxlen))\n",
    "question_encoder.add(Dropout(0.3))\n",
    "\n",
    "input_encoded_m = input_encoder_m(input_sequence)\n",
    "input_encoded_c = input_encoder_c(input_sequence)\n",
    "question_encoded = question_encoder(question)\n",
    "match = dot([input_encoded_m, question_encoded], axes=(2, 2))\n",
    "match = Activation('softmax')(match)\n",
    "response = add([match, input_encoded_c]) \n",
    "response = Permute((2, 1))(response)  \n",
    "answer = concatenate([response, question_encoded])\n",
    "answer = LSTM(lstm_size)(answer) \n",
    "answer = Dropout(0.3)(answer)\n",
    "answer = Dense(vocab_size)(answer)  \n",
    "answer = Activation('softmax')(answer)"
   ]
  },
  {
   "cell_type": "code",
   "execution_count": null,
   "metadata": {
    "id": "-dBdWWulDPuJ"
   },
   "outputs": [],
   "source": [
    "def recall_m(y_true, y_pred):\n",
    "    true_positives = K.sum(K.round(K.clip(y_true * y_pred, 0, 1)))\n",
    "    possible_positives = K.sum(K.round(K.clip(y_true, 0, 1)))\n",
    "    recall = true_positives / (possible_positives + K.epsilon())\n",
    "    return recall\n",
    "\n",
    "def precision_m(y_true, y_pred):\n",
    "    true_positives = K.sum(K.round(K.clip(y_true * y_pred, 0, 1)))\n",
    "    predicted_positives = K.sum(K.round(K.clip(y_pred, 0, 1)))\n",
    "    precision = true_positives / (predicted_positives + K.epsilon())\n",
    "    return precision\n",
    "\n",
    "def f1_m(y_true, y_pred):\n",
    "    precision = precision_m(y_true, y_pred)\n",
    "    recall = recall_m(y_true, y_pred)\n",
    "    return 2*((precision*recall)/(precision+recall+K.epsilon()))"
   ]
  },
  {
   "cell_type": "code",
   "execution_count": null,
   "metadata": {
    "id": "S8wPL80Ug-Ut"
   },
   "outputs": [],
   "source": [
    "# build the final model\n",
    "model = Model([input_sequence, question], answer)\n",
    "model.compile(optimizer='rmsprop', loss='categorical_crossentropy',\n",
    "              metrics=['accuracy',f1_m,precision_m, recall_m])"
   ]
  },
  {
   "cell_type": "code",
   "execution_count": null,
   "metadata": {
    "colab": {
     "base_uri": "https://localhost:8080/"
    },
    "id": "KdkUNyg6hDWy",
    "outputId": "e3e4ee3b-ec5b-469d-d3e9-d00f3f92d979"
   },
   "outputs": [
    {
     "name": "stdout",
     "output_type": "stream",
     "text": [
      "Model: \"model\"\n",
      "__________________________________________________________________________________________________\n",
      " Layer (type)                   Output Shape         Param #     Connected to                     \n",
      "==================================================================================================\n",
      " input_1 (InputLayer)           [(None, 55)]         0           []                               \n",
      "                                                                                                  \n",
      " input_2 (InputLayer)           [(None, 30)]         0           []                               \n",
      "                                                                                                  \n",
      " sequential (Sequential)        (None, None, 64)     757824      ['input_1[0][0]']                \n",
      "                                                                                                  \n",
      " sequential_2 (Sequential)      (None, 30, 64)       757824      ['input_2[0][0]']                \n",
      "                                                                                                  \n",
      " dot (Dot)                      (None, 55, 30)       0           ['sequential[0][0]',             \n",
      "                                                                  'sequential_2[0][0]']           \n",
      "                                                                                                  \n",
      " activation (Activation)        (None, 55, 30)       0           ['dot[0][0]']                    \n",
      "                                                                                                  \n",
      " sequential_1 (Sequential)      (None, None, 30)     355230      ['input_1[0][0]']                \n",
      "                                                                                                  \n",
      " add (Add)                      (None, 55, 30)       0           ['activation[0][0]',             \n",
      "                                                                  'sequential_1[0][0]']           \n",
      "                                                                                                  \n",
      " permute (Permute)              (None, 30, 55)       0           ['add[0][0]']                    \n",
      "                                                                                                  \n",
      " concatenate (Concatenate)      (None, 30, 119)      0           ['permute[0][0]',                \n",
      "                                                                  'sequential_2[0][0]']           \n",
      "                                                                                                  \n",
      " lstm (LSTM)                    (None, 64)           47104       ['concatenate[0][0]']            \n",
      "                                                                                                  \n",
      " dropout_3 (Dropout)            (None, 64)           0           ['lstm[0][0]']                   \n",
      "                                                                                                  \n",
      " dense (Dense)                  (None, 11841)        769665      ['dropout_3[0][0]']              \n",
      "                                                                                                  \n",
      " activation_1 (Activation)      (None, 11841)        0           ['dense[0][0]']                  \n",
      "                                                                                                  \n",
      "==================================================================================================\n",
      "Total params: 2,687,647\n",
      "Trainable params: 2,687,647\n",
      "Non-trainable params: 0\n",
      "__________________________________________________________________________________________________\n"
     ]
    }
   ],
   "source": [
    "model.summary()"
   ]
  },
  {
   "cell_type": "code",
   "execution_count": null,
   "metadata": {
    "colab": {
     "base_uri": "https://localhost:8080/",
     "height": 380
    },
    "id": "jh_O72jkBlzT",
    "outputId": "08f880d2-0cfc-4a85-f41a-4a0868417cfd"
   },
   "outputs": [
    {
     "name": "stdout",
     "output_type": "stream",
     "text": [
      "84/84 [==============================] - 5s 65ms/step - loss: 6.3281 - accuracy: 0.1264 - f1_m: 0.0300 - precision_m: 0.4048 - recall_m: 0.0156\n",
      "Epoch 353/1000\n",
      "49/84 [================>.............] - ETA: 2s - loss: 6.2322 - accuracy: 0.1403 - f1_m: 0.0412 - precision_m: 0.4898 - recall_m: 0.0217"
     ]
    },
    {
     "ename": "KeyboardInterrupt",
     "evalue": "ignored",
     "output_type": "error",
     "traceback": [
      "\u001b[0;31m---------------------------------------------------------------------------\u001b[0m",
      "\u001b[0;31mKeyboardInterrupt\u001b[0m                         Traceback (most recent call last)",
      "\u001b[0;32m<ipython-input-44-d11688cba067>\u001b[0m in \u001b[0;36m<module>\u001b[0;34m()\u001b[0m\n\u001b[0;32m----> 1\u001b[0;31m \u001b[0mhistory\u001b[0m \u001b[0;34m=\u001b[0m \u001b[0mmodel\u001b[0m\u001b[0;34m.\u001b[0m\u001b[0mfit\u001b[0m\u001b[0;34m(\u001b[0m\u001b[0;34m[\u001b[0m\u001b[0minputs_train\u001b[0m\u001b[0;34m,\u001b[0m \u001b[0mqueries_train\u001b[0m\u001b[0;34m]\u001b[0m\u001b[0;34m,\u001b[0m \u001b[0manswers_train\u001b[0m\u001b[0;34m,\u001b[0m \u001b[0mepochs\u001b[0m\u001b[0;34m=\u001b[0m\u001b[0mtrain_epochs\u001b[0m\u001b[0;34m,\u001b[0m \u001b[0mbatch_size\u001b[0m\u001b[0;34m=\u001b[0m\u001b[0mbatch_size\u001b[0m\u001b[0;34m,\u001b[0m \u001b[0mverbose\u001b[0m\u001b[0;34m=\u001b[0m\u001b[0;36m1\u001b[0m\u001b[0;34m)\u001b[0m\u001b[0;34m\u001b[0m\u001b[0;34m\u001b[0m\u001b[0m\n\u001b[0m\u001b[1;32m      2\u001b[0m \u001b[0mmodel\u001b[0m\u001b[0;34m.\u001b[0m\u001b[0msave\u001b[0m\u001b[0;34m(\u001b[0m\u001b[0;34m'/content/drive/MyDrive/qamodel.h5'\u001b[0m\u001b[0;34m)\u001b[0m\u001b[0;34m\u001b[0m\u001b[0;34m\u001b[0m\u001b[0m\n",
      "\u001b[0;32m/usr/local/lib/python3.7/dist-packages/keras/utils/traceback_utils.py\u001b[0m in \u001b[0;36merror_handler\u001b[0;34m(*args, **kwargs)\u001b[0m\n\u001b[1;32m     62\u001b[0m     \u001b[0mfiltered_tb\u001b[0m \u001b[0;34m=\u001b[0m \u001b[0;32mNone\u001b[0m\u001b[0;34m\u001b[0m\u001b[0;34m\u001b[0m\u001b[0m\n\u001b[1;32m     63\u001b[0m     \u001b[0;32mtry\u001b[0m\u001b[0;34m:\u001b[0m\u001b[0;34m\u001b[0m\u001b[0;34m\u001b[0m\u001b[0m\n\u001b[0;32m---> 64\u001b[0;31m       \u001b[0;32mreturn\u001b[0m \u001b[0mfn\u001b[0m\u001b[0;34m(\u001b[0m\u001b[0;34m*\u001b[0m\u001b[0margs\u001b[0m\u001b[0;34m,\u001b[0m \u001b[0;34m**\u001b[0m\u001b[0mkwargs\u001b[0m\u001b[0;34m)\u001b[0m\u001b[0;34m\u001b[0m\u001b[0;34m\u001b[0m\u001b[0m\n\u001b[0m\u001b[1;32m     65\u001b[0m     \u001b[0;32mexcept\u001b[0m \u001b[0mException\u001b[0m \u001b[0;32mas\u001b[0m \u001b[0me\u001b[0m\u001b[0;34m:\u001b[0m  \u001b[0;31m# pylint: disable=broad-except\u001b[0m\u001b[0;34m\u001b[0m\u001b[0;34m\u001b[0m\u001b[0m\n\u001b[1;32m     66\u001b[0m       \u001b[0mfiltered_tb\u001b[0m \u001b[0;34m=\u001b[0m \u001b[0m_process_traceback_frames\u001b[0m\u001b[0;34m(\u001b[0m\u001b[0me\u001b[0m\u001b[0;34m.\u001b[0m\u001b[0m__traceback__\u001b[0m\u001b[0;34m)\u001b[0m\u001b[0;34m\u001b[0m\u001b[0;34m\u001b[0m\u001b[0m\n",
      "\u001b[0;32m/usr/local/lib/python3.7/dist-packages/keras/engine/training.py\u001b[0m in \u001b[0;36mfit\u001b[0;34m(self, x, y, batch_size, epochs, verbose, callbacks, validation_split, validation_data, shuffle, class_weight, sample_weight, initial_epoch, steps_per_epoch, validation_steps, validation_batch_size, validation_freq, max_queue_size, workers, use_multiprocessing)\u001b[0m\n\u001b[1;32m   1382\u001b[0m                 _r=1):\n\u001b[1;32m   1383\u001b[0m               \u001b[0mcallbacks\u001b[0m\u001b[0;34m.\u001b[0m\u001b[0mon_train_batch_begin\u001b[0m\u001b[0;34m(\u001b[0m\u001b[0mstep\u001b[0m\u001b[0;34m)\u001b[0m\u001b[0;34m\u001b[0m\u001b[0;34m\u001b[0m\u001b[0m\n\u001b[0;32m-> 1384\u001b[0;31m               \u001b[0mtmp_logs\u001b[0m \u001b[0;34m=\u001b[0m \u001b[0mself\u001b[0m\u001b[0;34m.\u001b[0m\u001b[0mtrain_function\u001b[0m\u001b[0;34m(\u001b[0m\u001b[0miterator\u001b[0m\u001b[0;34m)\u001b[0m\u001b[0;34m\u001b[0m\u001b[0;34m\u001b[0m\u001b[0m\n\u001b[0m\u001b[1;32m   1385\u001b[0m               \u001b[0;32mif\u001b[0m \u001b[0mdata_handler\u001b[0m\u001b[0;34m.\u001b[0m\u001b[0mshould_sync\u001b[0m\u001b[0;34m:\u001b[0m\u001b[0;34m\u001b[0m\u001b[0;34m\u001b[0m\u001b[0m\n\u001b[1;32m   1386\u001b[0m                 \u001b[0mcontext\u001b[0m\u001b[0;34m.\u001b[0m\u001b[0masync_wait\u001b[0m\u001b[0;34m(\u001b[0m\u001b[0;34m)\u001b[0m\u001b[0;34m\u001b[0m\u001b[0;34m\u001b[0m\u001b[0m\n",
      "\u001b[0;32m/usr/local/lib/python3.7/dist-packages/tensorflow/python/util/traceback_utils.py\u001b[0m in \u001b[0;36merror_handler\u001b[0;34m(*args, **kwargs)\u001b[0m\n\u001b[1;32m    148\u001b[0m     \u001b[0mfiltered_tb\u001b[0m \u001b[0;34m=\u001b[0m \u001b[0;32mNone\u001b[0m\u001b[0;34m\u001b[0m\u001b[0;34m\u001b[0m\u001b[0m\n\u001b[1;32m    149\u001b[0m     \u001b[0;32mtry\u001b[0m\u001b[0;34m:\u001b[0m\u001b[0;34m\u001b[0m\u001b[0;34m\u001b[0m\u001b[0m\n\u001b[0;32m--> 150\u001b[0;31m       \u001b[0;32mreturn\u001b[0m \u001b[0mfn\u001b[0m\u001b[0;34m(\u001b[0m\u001b[0;34m*\u001b[0m\u001b[0margs\u001b[0m\u001b[0;34m,\u001b[0m \u001b[0;34m**\u001b[0m\u001b[0mkwargs\u001b[0m\u001b[0;34m)\u001b[0m\u001b[0;34m\u001b[0m\u001b[0;34m\u001b[0m\u001b[0m\n\u001b[0m\u001b[1;32m    151\u001b[0m     \u001b[0;32mexcept\u001b[0m \u001b[0mException\u001b[0m \u001b[0;32mas\u001b[0m \u001b[0me\u001b[0m\u001b[0;34m:\u001b[0m\u001b[0;34m\u001b[0m\u001b[0;34m\u001b[0m\u001b[0m\n\u001b[1;32m    152\u001b[0m       \u001b[0mfiltered_tb\u001b[0m \u001b[0;34m=\u001b[0m \u001b[0m_process_traceback_frames\u001b[0m\u001b[0;34m(\u001b[0m\u001b[0me\u001b[0m\u001b[0;34m.\u001b[0m\u001b[0m__traceback__\u001b[0m\u001b[0;34m)\u001b[0m\u001b[0;34m\u001b[0m\u001b[0;34m\u001b[0m\u001b[0m\n",
      "\u001b[0;32m/usr/local/lib/python3.7/dist-packages/tensorflow/python/eager/def_function.py\u001b[0m in \u001b[0;36m__call__\u001b[0;34m(self, *args, **kwds)\u001b[0m\n\u001b[1;32m    913\u001b[0m \u001b[0;34m\u001b[0m\u001b[0m\n\u001b[1;32m    914\u001b[0m       \u001b[0;32mwith\u001b[0m \u001b[0mOptionalXlaContext\u001b[0m\u001b[0;34m(\u001b[0m\u001b[0mself\u001b[0m\u001b[0;34m.\u001b[0m\u001b[0m_jit_compile\u001b[0m\u001b[0;34m)\u001b[0m\u001b[0;34m:\u001b[0m\u001b[0;34m\u001b[0m\u001b[0;34m\u001b[0m\u001b[0m\n\u001b[0;32m--> 915\u001b[0;31m         \u001b[0mresult\u001b[0m \u001b[0;34m=\u001b[0m \u001b[0mself\u001b[0m\u001b[0;34m.\u001b[0m\u001b[0m_call\u001b[0m\u001b[0;34m(\u001b[0m\u001b[0;34m*\u001b[0m\u001b[0margs\u001b[0m\u001b[0;34m,\u001b[0m \u001b[0;34m**\u001b[0m\u001b[0mkwds\u001b[0m\u001b[0;34m)\u001b[0m\u001b[0;34m\u001b[0m\u001b[0;34m\u001b[0m\u001b[0m\n\u001b[0m\u001b[1;32m    916\u001b[0m \u001b[0;34m\u001b[0m\u001b[0m\n\u001b[1;32m    917\u001b[0m       \u001b[0mnew_tracing_count\u001b[0m \u001b[0;34m=\u001b[0m \u001b[0mself\u001b[0m\u001b[0;34m.\u001b[0m\u001b[0mexperimental_get_tracing_count\u001b[0m\u001b[0;34m(\u001b[0m\u001b[0;34m)\u001b[0m\u001b[0;34m\u001b[0m\u001b[0;34m\u001b[0m\u001b[0m\n",
      "\u001b[0;32m/usr/local/lib/python3.7/dist-packages/tensorflow/python/eager/def_function.py\u001b[0m in \u001b[0;36m_call\u001b[0;34m(self, *args, **kwds)\u001b[0m\n\u001b[1;32m    945\u001b[0m       \u001b[0;31m# In this case we have created variables on the first call, so we run the\u001b[0m\u001b[0;34m\u001b[0m\u001b[0;34m\u001b[0m\u001b[0;34m\u001b[0m\u001b[0m\n\u001b[1;32m    946\u001b[0m       \u001b[0;31m# defunned version which is guaranteed to never create variables.\u001b[0m\u001b[0;34m\u001b[0m\u001b[0;34m\u001b[0m\u001b[0;34m\u001b[0m\u001b[0m\n\u001b[0;32m--> 947\u001b[0;31m       \u001b[0;32mreturn\u001b[0m \u001b[0mself\u001b[0m\u001b[0;34m.\u001b[0m\u001b[0m_stateless_fn\u001b[0m\u001b[0;34m(\u001b[0m\u001b[0;34m*\u001b[0m\u001b[0margs\u001b[0m\u001b[0;34m,\u001b[0m \u001b[0;34m**\u001b[0m\u001b[0mkwds\u001b[0m\u001b[0;34m)\u001b[0m  \u001b[0;31m# pylint: disable=not-callable\u001b[0m\u001b[0;34m\u001b[0m\u001b[0;34m\u001b[0m\u001b[0m\n\u001b[0m\u001b[1;32m    948\u001b[0m     \u001b[0;32melif\u001b[0m \u001b[0mself\u001b[0m\u001b[0;34m.\u001b[0m\u001b[0m_stateful_fn\u001b[0m \u001b[0;32mis\u001b[0m \u001b[0;32mnot\u001b[0m \u001b[0;32mNone\u001b[0m\u001b[0;34m:\u001b[0m\u001b[0;34m\u001b[0m\u001b[0;34m\u001b[0m\u001b[0m\n\u001b[1;32m    949\u001b[0m       \u001b[0;31m# Release the lock early so that multiple threads can perform the call\u001b[0m\u001b[0;34m\u001b[0m\u001b[0;34m\u001b[0m\u001b[0;34m\u001b[0m\u001b[0m\n",
      "\u001b[0;32m/usr/local/lib/python3.7/dist-packages/tensorflow/python/eager/function.py\u001b[0m in \u001b[0;36m__call__\u001b[0;34m(self, *args, **kwargs)\u001b[0m\n\u001b[1;32m   2955\u001b[0m        filtered_flat_args) = self._maybe_define_function(args, kwargs)\n\u001b[1;32m   2956\u001b[0m     return graph_function._call_flat(\n\u001b[0;32m-> 2957\u001b[0;31m         filtered_flat_args, captured_inputs=graph_function.captured_inputs)  # pylint: disable=protected-access\n\u001b[0m\u001b[1;32m   2958\u001b[0m \u001b[0;34m\u001b[0m\u001b[0m\n\u001b[1;32m   2959\u001b[0m   \u001b[0;34m@\u001b[0m\u001b[0mproperty\u001b[0m\u001b[0;34m\u001b[0m\u001b[0;34m\u001b[0m\u001b[0m\n",
      "\u001b[0;32m/usr/local/lib/python3.7/dist-packages/tensorflow/python/eager/function.py\u001b[0m in \u001b[0;36m_call_flat\u001b[0;34m(self, args, captured_inputs, cancellation_manager)\u001b[0m\n\u001b[1;32m   1852\u001b[0m       \u001b[0;31m# No tape is watching; skip to running the function.\u001b[0m\u001b[0;34m\u001b[0m\u001b[0;34m\u001b[0m\u001b[0;34m\u001b[0m\u001b[0m\n\u001b[1;32m   1853\u001b[0m       return self._build_call_outputs(self._inference_function.call(\n\u001b[0;32m-> 1854\u001b[0;31m           ctx, args, cancellation_manager=cancellation_manager))\n\u001b[0m\u001b[1;32m   1855\u001b[0m     forward_backward = self._select_forward_and_backward_functions(\n\u001b[1;32m   1856\u001b[0m         \u001b[0margs\u001b[0m\u001b[0;34m,\u001b[0m\u001b[0;34m\u001b[0m\u001b[0;34m\u001b[0m\u001b[0m\n",
      "\u001b[0;32m/usr/local/lib/python3.7/dist-packages/tensorflow/python/eager/function.py\u001b[0m in \u001b[0;36mcall\u001b[0;34m(self, ctx, args, cancellation_manager)\u001b[0m\n\u001b[1;32m    502\u001b[0m               \u001b[0minputs\u001b[0m\u001b[0;34m=\u001b[0m\u001b[0margs\u001b[0m\u001b[0;34m,\u001b[0m\u001b[0;34m\u001b[0m\u001b[0;34m\u001b[0m\u001b[0m\n\u001b[1;32m    503\u001b[0m               \u001b[0mattrs\u001b[0m\u001b[0;34m=\u001b[0m\u001b[0mattrs\u001b[0m\u001b[0;34m,\u001b[0m\u001b[0;34m\u001b[0m\u001b[0;34m\u001b[0m\u001b[0m\n\u001b[0;32m--> 504\u001b[0;31m               ctx=ctx)\n\u001b[0m\u001b[1;32m    505\u001b[0m         \u001b[0;32melse\u001b[0m\u001b[0;34m:\u001b[0m\u001b[0;34m\u001b[0m\u001b[0;34m\u001b[0m\u001b[0m\n\u001b[1;32m    506\u001b[0m           outputs = execute.execute_with_cancellation(\n",
      "\u001b[0;32m/usr/local/lib/python3.7/dist-packages/tensorflow/python/eager/execute.py\u001b[0m in \u001b[0;36mquick_execute\u001b[0;34m(op_name, num_outputs, inputs, attrs, ctx, name)\u001b[0m\n\u001b[1;32m     53\u001b[0m     \u001b[0mctx\u001b[0m\u001b[0;34m.\u001b[0m\u001b[0mensure_initialized\u001b[0m\u001b[0;34m(\u001b[0m\u001b[0;34m)\u001b[0m\u001b[0;34m\u001b[0m\u001b[0;34m\u001b[0m\u001b[0m\n\u001b[1;32m     54\u001b[0m     tensors = pywrap_tfe.TFE_Py_Execute(ctx._handle, device_name, op_name,\n\u001b[0;32m---> 55\u001b[0;31m                                         inputs, attrs, num_outputs)\n\u001b[0m\u001b[1;32m     56\u001b[0m   \u001b[0;32mexcept\u001b[0m \u001b[0mcore\u001b[0m\u001b[0;34m.\u001b[0m\u001b[0m_NotOkStatusException\u001b[0m \u001b[0;32mas\u001b[0m \u001b[0me\u001b[0m\u001b[0;34m:\u001b[0m\u001b[0;34m\u001b[0m\u001b[0;34m\u001b[0m\u001b[0m\n\u001b[1;32m     57\u001b[0m     \u001b[0;32mif\u001b[0m \u001b[0mname\u001b[0m \u001b[0;32mis\u001b[0m \u001b[0;32mnot\u001b[0m \u001b[0;32mNone\u001b[0m\u001b[0;34m:\u001b[0m\u001b[0;34m\u001b[0m\u001b[0;34m\u001b[0m\u001b[0m\n",
      "\u001b[0;31mKeyboardInterrupt\u001b[0m: "
     ]
    }
   ],
   "source": [
    "history = model.fit([inputs_train, queries_train], answers_train, epochs=train_epochs, batch_size=batch_size, verbose=1) \n",
    "model.save('/content/drive/MyDrive/qamodel.h5')"
   ]
  },
  {
   "cell_type": "code",
   "execution_count": null,
   "metadata": {
    "id": "NHmxPMZmB5TL"
   },
   "outputs": [],
   "source": [
    "for i in range(0,10):\n",
    "        current_inp = test_records[i]\n",
    "        current_story, current_query, current_answer = vectorize_stories([current_inp], word_idx, story_maxlen, query_maxlen)\n",
    "        current_prediction = model.predict([current_story, current_query])\n",
    "        current_prediction = idx_word[np.argmax(current_prediction)]\n",
    "        print(' '.join(current_inp[0]), ' '.join(current_inp[1]), '| Prediction:', current_prediction, '| Ground Truth:', current_inp[2])\n",
    "        print(\"-----------------------------------------------------------------------------------------\")"
   ]
  },
  {
   "cell_type": "code",
   "execution_count": null,
   "metadata": {
    "id": "q_mMqcRs5Vey"
   },
   "outputs": [],
   "source": []
  },
  {
   "cell_type": "markdown",
   "metadata": {
    "id": "evvuzhqJaqCQ"
   },
   "source": [
    "#filtering"
   ]
  },
  {
   "cell_type": "code",
   "execution_count": null,
   "metadata": {
    "colab": {
     "base_uri": "https://localhost:8080/",
     "height": 423
    },
    "id": "HCnZHgwEfQa-",
    "outputId": "a2fd1854-f5e8-4226-af8d-f9dd28e4c8c2"
   },
   "outputs": [
    {
     "data": {
      "text/html": [
       "\n",
       "  <div id=\"df-5c156ccc-0d74-4f91-87cc-f118313075ea\">\n",
       "    <div class=\"colab-df-container\">\n",
       "      <div>\n",
       "<style scoped>\n",
       "    .dataframe tbody tr th:only-of-type {\n",
       "        vertical-align: middle;\n",
       "    }\n",
       "\n",
       "    .dataframe tbody tr th {\n",
       "        vertical-align: top;\n",
       "    }\n",
       "\n",
       "    .dataframe thead th {\n",
       "        text-align: right;\n",
       "    }\n",
       "</style>\n",
       "<table border=\"1\" class=\"dataframe\">\n",
       "  <thead>\n",
       "    <tr style=\"text-align: right;\">\n",
       "      <th></th>\n",
       "      <th>context</th>\n",
       "      <th>question</th>\n",
       "      <th>answer_text</th>\n",
       "    </tr>\n",
       "  </thead>\n",
       "  <tbody>\n",
       "    <tr>\n",
       "      <th>19</th>\n",
       "      <td>[chopin, life, was, covered, in, bbc, tv, docu...</td>\n",
       "      <td>[what, two, people, created, documentary, on, ...</td>\n",
       "      <td>Angelo Bozzolini and Roberto Prosseda</td>\n",
       "    </tr>\n",
       "    <tr>\n",
       "      <th>469</th>\n",
       "      <td>[nick, fradiani, won, the, season, defeating, ...</td>\n",
       "      <td>[which, contestant, came, in, third, place]</td>\n",
       "      <td>Jax</td>\n",
       "    </tr>\n",
       "    <tr>\n",
       "      <th>1641</th>\n",
       "      <td>[central, catalan, is, considered, the, standa...</td>\n",
       "      <td>[what, is, central, catalan]</td>\n",
       "      <td>standard pronunciation</td>\n",
       "    </tr>\n",
       "    <tr>\n",
       "      <th>2255</th>\n",
       "      <td>[in, during, the, english, civil, war, parliam...</td>\n",
       "      <td>[what, is, the, furthest, town, the, royalists...</td>\n",
       "      <td>Redbridge</td>\n",
       "    </tr>\n",
       "    <tr>\n",
       "      <th>1239</th>\n",
       "      <td>[there, was, already, regulation, on, public, ...</td>\n",
       "      <td>[what, party, received, income, from, the, sal...</td>\n",
       "      <td>the crown</td>\n",
       "    </tr>\n",
       "    <tr>\n",
       "      <th>...</th>\n",
       "      <td>...</td>\n",
       "      <td>...</td>\n",
       "      <td>...</td>\n",
       "    </tr>\n",
       "    <tr>\n",
       "      <th>266</th>\n",
       "      <td>[in, following, the, death, of, west, mother, ...</td>\n",
       "      <td>[what, was, the, kanye, west, foundation, rena...</td>\n",
       "      <td>The Dr. Donda West Foundation</td>\n",
       "    </tr>\n",
       "    <tr>\n",
       "      <th>189</th>\n",
       "      <td>[in, peter, stuyvesant, the, director, general...</td>\n",
       "      <td>[in, what, year, did, the, english, take, over...</td>\n",
       "      <td>1664</td>\n",
       "    </tr>\n",
       "    <tr>\n",
       "      <th>1121</th>\n",
       "      <td>[according, to, unfpa, these, elements, promot...</td>\n",
       "      <td>[unfpa, lists, elements, that, promote, what, ...</td>\n",
       "      <td>reproductive health</td>\n",
       "    </tr>\n",
       "    <tr>\n",
       "      <th>3047</th>\n",
       "      <td>[the, third, john, walter, the, founder, grand...</td>\n",
       "      <td>[what, year, did, the, founder, grandson, succ...</td>\n",
       "      <td>1847</td>\n",
       "    </tr>\n",
       "    <tr>\n",
       "      <th>299</th>\n",
       "      <td>[sentient, beings, always, suffer, throughout,...</td>\n",
       "      <td>[the, absence, of, ignorance, leads, to, what]</td>\n",
       "      <td>the absence of the others</td>\n",
       "    </tr>\n",
       "  </tbody>\n",
       "</table>\n",
       "<p>2681 rows × 3 columns</p>\n",
       "</div>\n",
       "      <button class=\"colab-df-convert\" onclick=\"convertToInteractive('df-5c156ccc-0d74-4f91-87cc-f118313075ea')\"\n",
       "              title=\"Convert this dataframe to an interactive table.\"\n",
       "              style=\"display:none;\">\n",
       "        \n",
       "  <svg xmlns=\"http://www.w3.org/2000/svg\" height=\"24px\"viewBox=\"0 0 24 24\"\n",
       "       width=\"24px\">\n",
       "    <path d=\"M0 0h24v24H0V0z\" fill=\"none\"/>\n",
       "    <path d=\"M18.56 5.44l.94 2.06.94-2.06 2.06-.94-2.06-.94-.94-2.06-.94 2.06-2.06.94zm-11 1L8.5 8.5l.94-2.06 2.06-.94-2.06-.94L8.5 2.5l-.94 2.06-2.06.94zm10 10l.94 2.06.94-2.06 2.06-.94-2.06-.94-.94-2.06-.94 2.06-2.06.94z\"/><path d=\"M17.41 7.96l-1.37-1.37c-.4-.4-.92-.59-1.43-.59-.52 0-1.04.2-1.43.59L10.3 9.45l-7.72 7.72c-.78.78-.78 2.05 0 2.83L4 21.41c.39.39.9.59 1.41.59.51 0 1.02-.2 1.41-.59l7.78-7.78 2.81-2.81c.8-.78.8-2.07 0-2.86zM5.41 20L4 18.59l7.72-7.72 1.47 1.35L5.41 20z\"/>\n",
       "  </svg>\n",
       "      </button>\n",
       "      \n",
       "  <style>\n",
       "    .colab-df-container {\n",
       "      display:flex;\n",
       "      flex-wrap:wrap;\n",
       "      gap: 12px;\n",
       "    }\n",
       "\n",
       "    .colab-df-convert {\n",
       "      background-color: #E8F0FE;\n",
       "      border: none;\n",
       "      border-radius: 50%;\n",
       "      cursor: pointer;\n",
       "      display: none;\n",
       "      fill: #1967D2;\n",
       "      height: 32px;\n",
       "      padding: 0 0 0 0;\n",
       "      width: 32px;\n",
       "    }\n",
       "\n",
       "    .colab-df-convert:hover {\n",
       "      background-color: #E2EBFA;\n",
       "      box-shadow: 0px 1px 2px rgba(60, 64, 67, 0.3), 0px 1px 3px 1px rgba(60, 64, 67, 0.15);\n",
       "      fill: #174EA6;\n",
       "    }\n",
       "\n",
       "    [theme=dark] .colab-df-convert {\n",
       "      background-color: #3B4455;\n",
       "      fill: #D2E3FC;\n",
       "    }\n",
       "\n",
       "    [theme=dark] .colab-df-convert:hover {\n",
       "      background-color: #434B5C;\n",
       "      box-shadow: 0px 1px 3px 1px rgba(0, 0, 0, 0.15);\n",
       "      filter: drop-shadow(0px 1px 2px rgba(0, 0, 0, 0.3));\n",
       "      fill: #FFFFFF;\n",
       "    }\n",
       "  </style>\n",
       "\n",
       "      <script>\n",
       "        const buttonEl =\n",
       "          document.querySelector('#df-5c156ccc-0d74-4f91-87cc-f118313075ea button.colab-df-convert');\n",
       "        buttonEl.style.display =\n",
       "          google.colab.kernel.accessAllowed ? 'block' : 'none';\n",
       "\n",
       "        async function convertToInteractive(key) {\n",
       "          const element = document.querySelector('#df-5c156ccc-0d74-4f91-87cc-f118313075ea');\n",
       "          const dataTable =\n",
       "            await google.colab.kernel.invokeFunction('convertToInteractive',\n",
       "                                                     [key], {});\n",
       "          if (!dataTable) return;\n",
       "\n",
       "          const docLinkHtml = 'Like what you see? Visit the ' +\n",
       "            '<a target=\"_blank\" href=https://colab.research.google.com/notebooks/data_table.ipynb>data table notebook</a>'\n",
       "            + ' to learn more about interactive tables.';\n",
       "          element.innerHTML = '';\n",
       "          dataTable['output_type'] = 'display_data';\n",
       "          await google.colab.output.renderOutput(dataTable, element);\n",
       "          const docLink = document.createElement('div');\n",
       "          docLink.innerHTML = docLinkHtml;\n",
       "          element.appendChild(docLink);\n",
       "        }\n",
       "      </script>\n",
       "    </div>\n",
       "  </div>\n",
       "  "
      ],
      "text/plain": [
       "                                                context  \\\n",
       "19    [chopin, life, was, covered, in, bbc, tv, docu...   \n",
       "469   [nick, fradiani, won, the, season, defeating, ...   \n",
       "1641  [central, catalan, is, considered, the, standa...   \n",
       "2255  [in, during, the, english, civil, war, parliam...   \n",
       "1239  [there, was, already, regulation, on, public, ...   \n",
       "...                                                 ...   \n",
       "266   [in, following, the, death, of, west, mother, ...   \n",
       "189   [in, peter, stuyvesant, the, director, general...   \n",
       "1121  [according, to, unfpa, these, elements, promot...   \n",
       "3047  [the, third, john, walter, the, founder, grand...   \n",
       "299   [sentient, beings, always, suffer, throughout,...   \n",
       "\n",
       "                                               question  \\\n",
       "19    [what, two, people, created, documentary, on, ...   \n",
       "469         [which, contestant, came, in, third, place]   \n",
       "1641                       [what, is, central, catalan]   \n",
       "2255  [what, is, the, furthest, town, the, royalists...   \n",
       "1239  [what, party, received, income, from, the, sal...   \n",
       "...                                                 ...   \n",
       "266   [what, was, the, kanye, west, foundation, rena...   \n",
       "189   [in, what, year, did, the, english, take, over...   \n",
       "1121  [unfpa, lists, elements, that, promote, what, ...   \n",
       "3047  [what, year, did, the, founder, grandson, succ...   \n",
       "299      [the, absence, of, ignorance, leads, to, what]   \n",
       "\n",
       "                                answer_text  \n",
       "19    Angelo Bozzolini and Roberto Prosseda  \n",
       "469                                     Jax  \n",
       "1641                 standard pronunciation  \n",
       "2255                              Redbridge  \n",
       "1239                              the crown  \n",
       "...                                     ...  \n",
       "266           The Dr. Donda West Foundation  \n",
       "189                                    1664  \n",
       "1121                    reproductive health  \n",
       "3047                                   1847  \n",
       "299               the absence of the others  \n",
       "\n",
       "[2681 rows x 3 columns]"
      ]
     },
     "execution_count": 48,
     "metadata": {},
     "output_type": "execute_result"
    }
   ],
   "source": [
    "train"
   ]
  },
  {
   "cell_type": "code",
   "execution_count": null,
   "metadata": {
    "id": "s-eRal-Yasup"
   },
   "outputs": [],
   "source": []
  },
  {
   "cell_type": "markdown",
   "metadata": {
    "id": "LRE2oO7mD9GL"
   },
   "source": [
    "##load model"
   ]
  },
  {
   "cell_type": "code",
   "execution_count": null,
   "metadata": {
    "id": "acLdOMIGFdQm"
   },
   "outputs": [],
   "source": [
    "dependencies = {\n",
    "    'accuracy': 'accuracy',\n",
    "    'f1_m':f1_m,\n",
    "    'precision_m':precision_m,\n",
    "    'recall_m':recall_m\n",
    "}"
   ]
  },
  {
   "cell_type": "code",
   "execution_count": null,
   "metadata": {
    "id": "xTtEZuuND-_7"
   },
   "outputs": [],
   "source": [
    "reconstructed_model = keras.models.load_model(\"/content/drive/MyDrive/qamodel.h5\", custom_objects=dependencies)"
   ]
  },
  {
   "cell_type": "code",
   "execution_count": null,
   "metadata": {
    "colab": {
     "base_uri": "https://localhost:8080/"
    },
    "id": "EAStTNYDOhxi",
    "outputId": "b2143939-b0b4-4c7d-a297-13934921ed8c"
   },
   "outputs": [
    {
     "data": {
      "text/plain": [
       "array([[    0,     0,     0, ...,  2166,  2073,  9255],\n",
       "       [    0,     0,     0, ...,  4801,  8245,  5327],\n",
       "       [    0,     0,     0, ...,  9541,  3597,  9522],\n",
       "       ...,\n",
       "       [    0,     0,     0, ..., 10896,  2510,  4954],\n",
       "       [    0,     0,     0, ...,  2406,  9942,  5522],\n",
       "       [    0,     0,     0, ...,  8798,  7872,  5442]], dtype=int32)"
      ]
     },
     "execution_count": 47,
     "metadata": {},
     "output_type": "execute_result"
    }
   ],
   "source": [
    "inputs_test\n",
    "# queries_test\n",
    "# answers_test"
   ]
  },
  {
   "cell_type": "code",
   "execution_count": null,
   "metadata": {
    "colab": {
     "base_uri": "https://localhost:8080/"
    },
    "id": "0f86paLwD_Dh",
    "outputId": "b8a6a2a5-a476-4edb-846d-27491a5f5f7a"
   },
   "outputs": [
    {
     "name": "stdout",
     "output_type": "stream",
     "text": [
      "21/21 [==============================] - 3s 62ms/step - loss: 7.6467 - accuracy: 0.0671 - f1_m: 0.0144 - precision_m: 0.1905 - recall_m: 0.0075\n"
     ]
    },
    {
     "data": {
      "text/plain": [
       "<keras.callbacks.History at 0x7f61c77deb50>"
      ]
     },
     "execution_count": 48,
     "metadata": {},
     "output_type": "execute_result"
    }
   ],
   "source": [
    "reconstructed_model.fit([inputs_test, queries_test], answers_test)"
   ]
  },
  {
   "cell_type": "markdown",
   "metadata": {
    "id": "uhW0SrWlaCTA"
   },
   "source": [
    "#what"
   ]
  },
  {
   "cell_type": "code",
   "execution_count": null,
   "metadata": {
    "colab": {
     "base_uri": "https://localhost:8080/",
     "height": 423
    },
    "id": "_AWDNuN6rUja",
    "outputId": "336507ef-cde8-42cc-98d6-af4d05092e39"
   },
   "outputs": [
    {
     "data": {
      "text/html": [
       "\n",
       "  <div id=\"df-30075585-4fc2-43f8-ab08-b996d68e2090\">\n",
       "    <div class=\"colab-df-container\">\n",
       "      <div>\n",
       "<style scoped>\n",
       "    .dataframe tbody tr th:only-of-type {\n",
       "        vertical-align: middle;\n",
       "    }\n",
       "\n",
       "    .dataframe tbody tr th {\n",
       "        vertical-align: top;\n",
       "    }\n",
       "\n",
       "    .dataframe thead th {\n",
       "        text-align: right;\n",
       "    }\n",
       "</style>\n",
       "<table border=\"1\" class=\"dataframe\">\n",
       "  <thead>\n",
       "    <tr style=\"text-align: right;\">\n",
       "      <th></th>\n",
       "      <th>answer_text</th>\n",
       "      <th>question</th>\n",
       "      <th>context</th>\n",
       "    </tr>\n",
       "  </thead>\n",
       "  <tbody>\n",
       "    <tr>\n",
       "      <th>0</th>\n",
       "      <td>Tidal</td>\n",
       "      <td>Beyonce released the song \"Formation\" on which...</td>\n",
       "      <td>On February 6, 2016, one day before her perfor...</td>\n",
       "    </tr>\n",
       "    <tr>\n",
       "      <th>1</th>\n",
       "      <td>Formation</td>\n",
       "      <td>Beyonce's new single released before the super...</td>\n",
       "      <td>On February 6, 2016, one day before her perfor...</td>\n",
       "    </tr>\n",
       "    <tr>\n",
       "      <th>2</th>\n",
       "      <td>February 6, 2016</td>\n",
       "      <td>What day did Beyonce release her single, Forma...</td>\n",
       "      <td>On February 6, 2016, one day before her perfor...</td>\n",
       "    </tr>\n",
       "    <tr>\n",
       "      <th>3</th>\n",
       "      <td>Tidal</td>\n",
       "      <td>What was the name of the streaming service?</td>\n",
       "      <td>On February 6, 2016, one day before her perfor...</td>\n",
       "    </tr>\n",
       "    <tr>\n",
       "      <th>4</th>\n",
       "      <td>music streaming</td>\n",
       "      <td>What kind of platform was the song released?</td>\n",
       "      <td>On February 6, 2016, one day before her perfor...</td>\n",
       "    </tr>\n",
       "    <tr>\n",
       "      <th>...</th>\n",
       "      <td>...</td>\n",
       "      <td>...</td>\n",
       "      <td>...</td>\n",
       "    </tr>\n",
       "    <tr>\n",
       "      <th>3347</th>\n",
       "      <td>1990</td>\n",
       "      <td>when was madonna's hit single \"vogue\" released?</td>\n",
       "      <td>The early 1990s additionally saw the rise in m...</td>\n",
       "    </tr>\n",
       "    <tr>\n",
       "      <th>3348</th>\n",
       "      <td>1990s</td>\n",
       "      <td>what decade did house music hit the mainstream...</td>\n",
       "      <td>The early 1990s additionally saw the rise in m...</td>\n",
       "    </tr>\n",
       "    <tr>\n",
       "      <th>3349</th>\n",
       "      <td>Madonna</td>\n",
       "      <td>who sang the hit single \"vogue\"?</td>\n",
       "      <td>The early 1990s additionally saw the rise in m...</td>\n",
       "    </tr>\n",
       "    <tr>\n",
       "      <th>3350</th>\n",
       "      <td>its roots</td>\n",
       "      <td>There has been a reunification of contemporary...</td>\n",
       "      <td>In addition to these popular examples of house...</td>\n",
       "    </tr>\n",
       "    <tr>\n",
       "      <th>3351</th>\n",
       "      <td>hip hop and R&amp;B</td>\n",
       "      <td>What genre of artists has recently turned to h...</td>\n",
       "      <td>In addition to these popular examples of house...</td>\n",
       "    </tr>\n",
       "  </tbody>\n",
       "</table>\n",
       "<p>3352 rows × 3 columns</p>\n",
       "</div>\n",
       "      <button class=\"colab-df-convert\" onclick=\"convertToInteractive('df-30075585-4fc2-43f8-ab08-b996d68e2090')\"\n",
       "              title=\"Convert this dataframe to an interactive table.\"\n",
       "              style=\"display:none;\">\n",
       "        \n",
       "  <svg xmlns=\"http://www.w3.org/2000/svg\" height=\"24px\"viewBox=\"0 0 24 24\"\n",
       "       width=\"24px\">\n",
       "    <path d=\"M0 0h24v24H0V0z\" fill=\"none\"/>\n",
       "    <path d=\"M18.56 5.44l.94 2.06.94-2.06 2.06-.94-2.06-.94-.94-2.06-.94 2.06-2.06.94zm-11 1L8.5 8.5l.94-2.06 2.06-.94-2.06-.94L8.5 2.5l-.94 2.06-2.06.94zm10 10l.94 2.06.94-2.06 2.06-.94-2.06-.94-.94-2.06-.94 2.06-2.06.94z\"/><path d=\"M17.41 7.96l-1.37-1.37c-.4-.4-.92-.59-1.43-.59-.52 0-1.04.2-1.43.59L10.3 9.45l-7.72 7.72c-.78.78-.78 2.05 0 2.83L4 21.41c.39.39.9.59 1.41.59.51 0 1.02-.2 1.41-.59l7.78-7.78 2.81-2.81c.8-.78.8-2.07 0-2.86zM5.41 20L4 18.59l7.72-7.72 1.47 1.35L5.41 20z\"/>\n",
       "  </svg>\n",
       "      </button>\n",
       "      \n",
       "  <style>\n",
       "    .colab-df-container {\n",
       "      display:flex;\n",
       "      flex-wrap:wrap;\n",
       "      gap: 12px;\n",
       "    }\n",
       "\n",
       "    .colab-df-convert {\n",
       "      background-color: #E8F0FE;\n",
       "      border: none;\n",
       "      border-radius: 50%;\n",
       "      cursor: pointer;\n",
       "      display: none;\n",
       "      fill: #1967D2;\n",
       "      height: 32px;\n",
       "      padding: 0 0 0 0;\n",
       "      width: 32px;\n",
       "    }\n",
       "\n",
       "    .colab-df-convert:hover {\n",
       "      background-color: #E2EBFA;\n",
       "      box-shadow: 0px 1px 2px rgba(60, 64, 67, 0.3), 0px 1px 3px 1px rgba(60, 64, 67, 0.15);\n",
       "      fill: #174EA6;\n",
       "    }\n",
       "\n",
       "    [theme=dark] .colab-df-convert {\n",
       "      background-color: #3B4455;\n",
       "      fill: #D2E3FC;\n",
       "    }\n",
       "\n",
       "    [theme=dark] .colab-df-convert:hover {\n",
       "      background-color: #434B5C;\n",
       "      box-shadow: 0px 1px 3px 1px rgba(0, 0, 0, 0.15);\n",
       "      filter: drop-shadow(0px 1px 2px rgba(0, 0, 0, 0.3));\n",
       "      fill: #FFFFFF;\n",
       "    }\n",
       "  </style>\n",
       "\n",
       "      <script>\n",
       "        const buttonEl =\n",
       "          document.querySelector('#df-30075585-4fc2-43f8-ab08-b996d68e2090 button.colab-df-convert');\n",
       "        buttonEl.style.display =\n",
       "          google.colab.kernel.accessAllowed ? 'block' : 'none';\n",
       "\n",
       "        async function convertToInteractive(key) {\n",
       "          const element = document.querySelector('#df-30075585-4fc2-43f8-ab08-b996d68e2090');\n",
       "          const dataTable =\n",
       "            await google.colab.kernel.invokeFunction('convertToInteractive',\n",
       "                                                     [key], {});\n",
       "          if (!dataTable) return;\n",
       "\n",
       "          const docLinkHtml = 'Like what you see? Visit the ' +\n",
       "            '<a target=\"_blank\" href=https://colab.research.google.com/notebooks/data_table.ipynb>data table notebook</a>'\n",
       "            + ' to learn more about interactive tables.';\n",
       "          element.innerHTML = '';\n",
       "          dataTable['output_type'] = 'display_data';\n",
       "          await google.colab.output.renderOutput(dataTable, element);\n",
       "          const docLink = document.createElement('div');\n",
       "          docLink.innerHTML = docLinkHtml;\n",
       "          element.appendChild(docLink);\n",
       "        }\n",
       "      </script>\n",
       "    </div>\n",
       "  </div>\n",
       "  "
      ],
      "text/plain": [
       "           answer_text                                           question  \\\n",
       "0                Tidal  Beyonce released the song \"Formation\" on which...   \n",
       "1            Formation  Beyonce's new single released before the super...   \n",
       "2     February 6, 2016  What day did Beyonce release her single, Forma...   \n",
       "3                Tidal        What was the name of the streaming service?   \n",
       "4      music streaming       What kind of platform was the song released?   \n",
       "...                ...                                                ...   \n",
       "3347              1990    when was madonna's hit single \"vogue\" released?   \n",
       "3348             1990s  what decade did house music hit the mainstream...   \n",
       "3349           Madonna                   who sang the hit single \"vogue\"?   \n",
       "3350         its roots  There has been a reunification of contemporary...   \n",
       "3351   hip hop and R&B  What genre of artists has recently turned to h...   \n",
       "\n",
       "                                                context  \n",
       "0     On February 6, 2016, one day before her perfor...  \n",
       "1     On February 6, 2016, one day before her perfor...  \n",
       "2     On February 6, 2016, one day before her perfor...  \n",
       "3     On February 6, 2016, one day before her perfor...  \n",
       "4     On February 6, 2016, one day before her perfor...  \n",
       "...                                                 ...  \n",
       "3347  The early 1990s additionally saw the rise in m...  \n",
       "3348  The early 1990s additionally saw the rise in m...  \n",
       "3349  The early 1990s additionally saw the rise in m...  \n",
       "3350  In addition to these popular examples of house...  \n",
       "3351  In addition to these popular examples of house...  \n",
       "\n",
       "[3352 rows x 3 columns]"
      ]
     },
     "execution_count": 49,
     "metadata": {},
     "output_type": "execute_result"
    }
   ],
   "source": [
    "temp_df=train_df.copy()\n",
    "temp_df"
   ]
  },
  {
   "cell_type": "code",
   "execution_count": null,
   "metadata": {
    "id": "f2D6XFncaD1t"
   },
   "outputs": [],
   "source": [
    "# for i in range(0,len(train['question'])):\n",
    "for i in range(len(temp_df['question'])):\n",
    "  que=str(temp_df['question'][i])\n",
    "  if(que.find('what')==-1):\n",
    "    temp_df['question'][i]=np.nan"
   ]
  },
  {
   "cell_type": "code",
   "execution_count": null,
   "metadata": {
    "colab": {
     "base_uri": "https://localhost:8080/",
     "height": 423
    },
    "id": "iDgstk5tsqXj",
    "outputId": "e2e94f4c-55cf-43df-ace2-3afc8b52430f"
   },
   "outputs": [
    {
     "data": {
      "text/html": [
       "\n",
       "  <div id=\"df-b8043b48-8b6b-46c1-9034-4f081629f675\">\n",
       "    <div class=\"colab-df-container\">\n",
       "      <div>\n",
       "<style scoped>\n",
       "    .dataframe tbody tr th:only-of-type {\n",
       "        vertical-align: middle;\n",
       "    }\n",
       "\n",
       "    .dataframe tbody tr th {\n",
       "        vertical-align: top;\n",
       "    }\n",
       "\n",
       "    .dataframe thead th {\n",
       "        text-align: right;\n",
       "    }\n",
       "</style>\n",
       "<table border=\"1\" class=\"dataframe\">\n",
       "  <thead>\n",
       "    <tr style=\"text-align: right;\">\n",
       "      <th></th>\n",
       "      <th>answer_text</th>\n",
       "      <th>question</th>\n",
       "      <th>context</th>\n",
       "    </tr>\n",
       "  </thead>\n",
       "  <tbody>\n",
       "    <tr>\n",
       "      <th>0</th>\n",
       "      <td>Tidal</td>\n",
       "      <td>NaN</td>\n",
       "      <td>On February 6, 2016, one day before her perfor...</td>\n",
       "    </tr>\n",
       "    <tr>\n",
       "      <th>1</th>\n",
       "      <td>Formation</td>\n",
       "      <td>Beyonce's new single released before the super...</td>\n",
       "      <td>On February 6, 2016, one day before her perfor...</td>\n",
       "    </tr>\n",
       "    <tr>\n",
       "      <th>2</th>\n",
       "      <td>February 6, 2016</td>\n",
       "      <td>NaN</td>\n",
       "      <td>On February 6, 2016, one day before her perfor...</td>\n",
       "    </tr>\n",
       "    <tr>\n",
       "      <th>3</th>\n",
       "      <td>Tidal</td>\n",
       "      <td>NaN</td>\n",
       "      <td>On February 6, 2016, one day before her perfor...</td>\n",
       "    </tr>\n",
       "    <tr>\n",
       "      <th>4</th>\n",
       "      <td>music streaming</td>\n",
       "      <td>NaN</td>\n",
       "      <td>On February 6, 2016, one day before her perfor...</td>\n",
       "    </tr>\n",
       "    <tr>\n",
       "      <th>...</th>\n",
       "      <td>...</td>\n",
       "      <td>...</td>\n",
       "      <td>...</td>\n",
       "    </tr>\n",
       "    <tr>\n",
       "      <th>3347</th>\n",
       "      <td>1990</td>\n",
       "      <td>NaN</td>\n",
       "      <td>The early 1990s additionally saw the rise in m...</td>\n",
       "    </tr>\n",
       "    <tr>\n",
       "      <th>3348</th>\n",
       "      <td>1990s</td>\n",
       "      <td>what decade did house music hit the mainstream...</td>\n",
       "      <td>The early 1990s additionally saw the rise in m...</td>\n",
       "    </tr>\n",
       "    <tr>\n",
       "      <th>3349</th>\n",
       "      <td>Madonna</td>\n",
       "      <td>NaN</td>\n",
       "      <td>The early 1990s additionally saw the rise in m...</td>\n",
       "    </tr>\n",
       "    <tr>\n",
       "      <th>3350</th>\n",
       "      <td>its roots</td>\n",
       "      <td>There has been a reunification of contemporary...</td>\n",
       "      <td>In addition to these popular examples of house...</td>\n",
       "    </tr>\n",
       "    <tr>\n",
       "      <th>3351</th>\n",
       "      <td>hip hop and R&amp;B</td>\n",
       "      <td>NaN</td>\n",
       "      <td>In addition to these popular examples of house...</td>\n",
       "    </tr>\n",
       "  </tbody>\n",
       "</table>\n",
       "<p>3352 rows × 3 columns</p>\n",
       "</div>\n",
       "      <button class=\"colab-df-convert\" onclick=\"convertToInteractive('df-b8043b48-8b6b-46c1-9034-4f081629f675')\"\n",
       "              title=\"Convert this dataframe to an interactive table.\"\n",
       "              style=\"display:none;\">\n",
       "        \n",
       "  <svg xmlns=\"http://www.w3.org/2000/svg\" height=\"24px\"viewBox=\"0 0 24 24\"\n",
       "       width=\"24px\">\n",
       "    <path d=\"M0 0h24v24H0V0z\" fill=\"none\"/>\n",
       "    <path d=\"M18.56 5.44l.94 2.06.94-2.06 2.06-.94-2.06-.94-.94-2.06-.94 2.06-2.06.94zm-11 1L8.5 8.5l.94-2.06 2.06-.94-2.06-.94L8.5 2.5l-.94 2.06-2.06.94zm10 10l.94 2.06.94-2.06 2.06-.94-2.06-.94-.94-2.06-.94 2.06-2.06.94z\"/><path d=\"M17.41 7.96l-1.37-1.37c-.4-.4-.92-.59-1.43-.59-.52 0-1.04.2-1.43.59L10.3 9.45l-7.72 7.72c-.78.78-.78 2.05 0 2.83L4 21.41c.39.39.9.59 1.41.59.51 0 1.02-.2 1.41-.59l7.78-7.78 2.81-2.81c.8-.78.8-2.07 0-2.86zM5.41 20L4 18.59l7.72-7.72 1.47 1.35L5.41 20z\"/>\n",
       "  </svg>\n",
       "      </button>\n",
       "      \n",
       "  <style>\n",
       "    .colab-df-container {\n",
       "      display:flex;\n",
       "      flex-wrap:wrap;\n",
       "      gap: 12px;\n",
       "    }\n",
       "\n",
       "    .colab-df-convert {\n",
       "      background-color: #E8F0FE;\n",
       "      border: none;\n",
       "      border-radius: 50%;\n",
       "      cursor: pointer;\n",
       "      display: none;\n",
       "      fill: #1967D2;\n",
       "      height: 32px;\n",
       "      padding: 0 0 0 0;\n",
       "      width: 32px;\n",
       "    }\n",
       "\n",
       "    .colab-df-convert:hover {\n",
       "      background-color: #E2EBFA;\n",
       "      box-shadow: 0px 1px 2px rgba(60, 64, 67, 0.3), 0px 1px 3px 1px rgba(60, 64, 67, 0.15);\n",
       "      fill: #174EA6;\n",
       "    }\n",
       "\n",
       "    [theme=dark] .colab-df-convert {\n",
       "      background-color: #3B4455;\n",
       "      fill: #D2E3FC;\n",
       "    }\n",
       "\n",
       "    [theme=dark] .colab-df-convert:hover {\n",
       "      background-color: #434B5C;\n",
       "      box-shadow: 0px 1px 3px 1px rgba(0, 0, 0, 0.15);\n",
       "      filter: drop-shadow(0px 1px 2px rgba(0, 0, 0, 0.3));\n",
       "      fill: #FFFFFF;\n",
       "    }\n",
       "  </style>\n",
       "\n",
       "      <script>\n",
       "        const buttonEl =\n",
       "          document.querySelector('#df-b8043b48-8b6b-46c1-9034-4f081629f675 button.colab-df-convert');\n",
       "        buttonEl.style.display =\n",
       "          google.colab.kernel.accessAllowed ? 'block' : 'none';\n",
       "\n",
       "        async function convertToInteractive(key) {\n",
       "          const element = document.querySelector('#df-b8043b48-8b6b-46c1-9034-4f081629f675');\n",
       "          const dataTable =\n",
       "            await google.colab.kernel.invokeFunction('convertToInteractive',\n",
       "                                                     [key], {});\n",
       "          if (!dataTable) return;\n",
       "\n",
       "          const docLinkHtml = 'Like what you see? Visit the ' +\n",
       "            '<a target=\"_blank\" href=https://colab.research.google.com/notebooks/data_table.ipynb>data table notebook</a>'\n",
       "            + ' to learn more about interactive tables.';\n",
       "          element.innerHTML = '';\n",
       "          dataTable['output_type'] = 'display_data';\n",
       "          await google.colab.output.renderOutput(dataTable, element);\n",
       "          const docLink = document.createElement('div');\n",
       "          docLink.innerHTML = docLinkHtml;\n",
       "          element.appendChild(docLink);\n",
       "        }\n",
       "      </script>\n",
       "    </div>\n",
       "  </div>\n",
       "  "
      ],
      "text/plain": [
       "           answer_text                                           question  \\\n",
       "0                Tidal                                                NaN   \n",
       "1            Formation  Beyonce's new single released before the super...   \n",
       "2     February 6, 2016                                                NaN   \n",
       "3                Tidal                                                NaN   \n",
       "4      music streaming                                                NaN   \n",
       "...                ...                                                ...   \n",
       "3347              1990                                                NaN   \n",
       "3348             1990s  what decade did house music hit the mainstream...   \n",
       "3349           Madonna                                                NaN   \n",
       "3350         its roots  There has been a reunification of contemporary...   \n",
       "3351   hip hop and R&B                                                NaN   \n",
       "\n",
       "                                                context  \n",
       "0     On February 6, 2016, one day before her perfor...  \n",
       "1     On February 6, 2016, one day before her perfor...  \n",
       "2     On February 6, 2016, one day before her perfor...  \n",
       "3     On February 6, 2016, one day before her perfor...  \n",
       "4     On February 6, 2016, one day before her perfor...  \n",
       "...                                                 ...  \n",
       "3347  The early 1990s additionally saw the rise in m...  \n",
       "3348  The early 1990s additionally saw the rise in m...  \n",
       "3349  The early 1990s additionally saw the rise in m...  \n",
       "3350  In addition to these popular examples of house...  \n",
       "3351  In addition to these popular examples of house...  \n",
       "\n",
       "[3352 rows x 3 columns]"
      ]
     },
     "execution_count": 51,
     "metadata": {},
     "output_type": "execute_result"
    }
   ],
   "source": [
    "temp_df"
   ]
  },
  {
   "cell_type": "code",
   "execution_count": null,
   "metadata": {
    "id": "x6spHuqhdbM9"
   },
   "outputs": [],
   "source": [
    "what_df=temp_df.dropna()\n",
    "what_df=what_df.reset_index()\n",
    "y_what=what_df['answer_text']\n",
    "what_df.drop(['index'],axis=1,inplace=True)\n",
    "what_df\n",
    "what_df['context']=what_df['context'].apply(lambda x: gensim.utils.simple_preprocess(x))\n",
    "what_df['question']=what_df['question'].apply(lambda x: gensim.utils.simple_preprocess(str(x)))\\\n",
    "what_df=what_df[what_df.columns[::-1]]\n",
    "what_df_records=what_df.to_records(index=False)\n",
    "what_df_records = list(what_df_records)\n",
    "print(what_df_records[0])\n",
    "inputs_what, queries_what, answers_what = vectorize_stories(what_df_records,\n",
    "                                                               word_idx,\n",
    "                                                               story_maxlen,\n",
    "                                                               query_maxlen)\n",
    "reconstructed_model.fit([inputs_what, queries_what], answers_what)"
   ]
  },
  {
   "cell_type": "code",
   "execution_count": null,
   "metadata": {
    "id": "pLPld4aTtGOU"
   },
   "outputs": [],
   "source": []
  },
  {
   "cell_type": "code",
   "execution_count": null,
   "metadata": {
    "id": "s8a6DF_x4rh-"
   },
   "outputs": [],
   "source": []
  },
  {
   "cell_type": "code",
   "execution_count": null,
   "metadata": {
    "id": "WeYlvA32-qpc"
   },
   "outputs": [],
   "source": []
  },
  {
   "cell_type": "code",
   "execution_count": null,
   "metadata": {
    "id": "DuHqaMT0-DKG"
   },
   "outputs": [],
   "source": []
  },
  {
   "cell_type": "code",
   "execution_count": null,
   "metadata": {
    "colab": {
     "base_uri": "https://localhost:8080/"
    },
    "id": "Lith4gfAhh_I",
    "outputId": "f8565ca1-6dc7-4345-bbe4-45f7ab607860"
   },
   "outputs": [
    {
     "name": "stdout",
     "output_type": "stream",
     "text": [
      "(list(['on', 'february', 'one', 'day', 'before', 'her', 'performance', 'at', 'the', 'super', 'bowl', 'beyoncé', 'released', 'new', 'single', 'exclusively', 'on', 'music', 'streaming', 'service', 'tidal', 'called', 'formation']), list(['beyonce', 'new', 'single', 'released', 'before', 'the', 'super', 'bowl', 'was', 'called', 'what']), 'Formation')\n"
     ]
    }
   ],
   "source": []
  },
  {
   "cell_type": "code",
   "execution_count": null,
   "metadata": {
    "id": "3HR9fnsc5jc2"
   },
   "outputs": [],
   "source": []
  },
  {
   "cell_type": "code",
   "execution_count": null,
   "metadata": {
    "id": "2ks1HL9ejbWq"
   },
   "outputs": [],
   "source": [
    "dependencies = {\n",
    "    'accuracy': 'accuracy',\n",
    "    'f1_m':f1_m,\n",
    "    'precision_m':precision_m,\n",
    "    'recall_m':recall_m\n",
    "}"
   ]
  },
  {
   "cell_type": "code",
   "execution_count": null,
   "metadata": {
    "id": "pbdUXkzb8pCn"
   },
   "outputs": [],
   "source": [
    "reconstructed_model = keras.models.load_model(\"/content/drive/MyDrive/qamodel.h5\", custom_objects=dependencies)"
   ]
  },
  {
   "cell_type": "code",
   "execution_count": null,
   "metadata": {
    "colab": {
     "base_uri": "https://localhost:8080/"
    },
    "id": "syxj9PkmhvwP",
    "outputId": "86e6fe70-b5f6-47f0-a203-69d1eefd82d9"
   },
   "outputs": [
    {
     "name": "stdout",
     "output_type": "stream",
     "text": [
      "24/24 [==============================] - 3s 58ms/step - loss: 7.6448 - accuracy: 0.0841 - f1_m: 0.0175 - precision_m: 0.2500 - recall_m: 0.0091\n"
     ]
    },
    {
     "data": {
      "text/plain": [
       "<keras.callbacks.History at 0x7f61c905cb10>"
      ]
     },
     "execution_count": 72,
     "metadata": {},
     "output_type": "execute_result"
    }
   ],
   "source": []
  },
  {
   "cell_type": "markdown",
   "metadata": {
    "id": "DsaABbDhaE79"
   },
   "source": [
    "#when"
   ]
  },
  {
   "cell_type": "code",
   "execution_count": null,
   "metadata": {
    "colab": {
     "base_uri": "https://localhost:8080/",
     "height": 423
    },
    "id": "5XtFzoW_aGS5",
    "outputId": "ddb40412-b9f6-4464-d645-25e75b91bd97"
   },
   "outputs": [
    {
     "data": {
      "text/html": [
       "\n",
       "  <div id=\"df-79cfa570-0ad9-46c8-a263-ebaf5fcdf19c\">\n",
       "    <div class=\"colab-df-container\">\n",
       "      <div>\n",
       "<style scoped>\n",
       "    .dataframe tbody tr th:only-of-type {\n",
       "        vertical-align: middle;\n",
       "    }\n",
       "\n",
       "    .dataframe tbody tr th {\n",
       "        vertical-align: top;\n",
       "    }\n",
       "\n",
       "    .dataframe thead th {\n",
       "        text-align: right;\n",
       "    }\n",
       "</style>\n",
       "<table border=\"1\" class=\"dataframe\">\n",
       "  <thead>\n",
       "    <tr style=\"text-align: right;\">\n",
       "      <th></th>\n",
       "      <th>answer_text</th>\n",
       "      <th>question</th>\n",
       "      <th>context</th>\n",
       "    </tr>\n",
       "  </thead>\n",
       "  <tbody>\n",
       "    <tr>\n",
       "      <th>0</th>\n",
       "      <td>Tidal</td>\n",
       "      <td>Beyonce released the song \"Formation\" on which...</td>\n",
       "      <td>On February 6, 2016, one day before her perfor...</td>\n",
       "    </tr>\n",
       "    <tr>\n",
       "      <th>1</th>\n",
       "      <td>Formation</td>\n",
       "      <td>Beyonce's new single released before the super...</td>\n",
       "      <td>On February 6, 2016, one day before her perfor...</td>\n",
       "    </tr>\n",
       "    <tr>\n",
       "      <th>2</th>\n",
       "      <td>February 6, 2016</td>\n",
       "      <td>What day did Beyonce release her single, Forma...</td>\n",
       "      <td>On February 6, 2016, one day before her perfor...</td>\n",
       "    </tr>\n",
       "    <tr>\n",
       "      <th>3</th>\n",
       "      <td>Tidal</td>\n",
       "      <td>What was the name of the streaming service?</td>\n",
       "      <td>On February 6, 2016, one day before her perfor...</td>\n",
       "    </tr>\n",
       "    <tr>\n",
       "      <th>4</th>\n",
       "      <td>music streaming</td>\n",
       "      <td>What kind of platform was the song released?</td>\n",
       "      <td>On February 6, 2016, one day before her perfor...</td>\n",
       "    </tr>\n",
       "    <tr>\n",
       "      <th>...</th>\n",
       "      <td>...</td>\n",
       "      <td>...</td>\n",
       "      <td>...</td>\n",
       "    </tr>\n",
       "    <tr>\n",
       "      <th>3347</th>\n",
       "      <td>1990</td>\n",
       "      <td>when was madonna's hit single \"vogue\" released?</td>\n",
       "      <td>The early 1990s additionally saw the rise in m...</td>\n",
       "    </tr>\n",
       "    <tr>\n",
       "      <th>3348</th>\n",
       "      <td>1990s</td>\n",
       "      <td>what decade did house music hit the mainstream...</td>\n",
       "      <td>The early 1990s additionally saw the rise in m...</td>\n",
       "    </tr>\n",
       "    <tr>\n",
       "      <th>3349</th>\n",
       "      <td>Madonna</td>\n",
       "      <td>who sang the hit single \"vogue\"?</td>\n",
       "      <td>The early 1990s additionally saw the rise in m...</td>\n",
       "    </tr>\n",
       "    <tr>\n",
       "      <th>3350</th>\n",
       "      <td>its roots</td>\n",
       "      <td>There has been a reunification of contemporary...</td>\n",
       "      <td>In addition to these popular examples of house...</td>\n",
       "    </tr>\n",
       "    <tr>\n",
       "      <th>3351</th>\n",
       "      <td>hip hop and R&amp;B</td>\n",
       "      <td>What genre of artists has recently turned to h...</td>\n",
       "      <td>In addition to these popular examples of house...</td>\n",
       "    </tr>\n",
       "  </tbody>\n",
       "</table>\n",
       "<p>3352 rows × 3 columns</p>\n",
       "</div>\n",
       "      <button class=\"colab-df-convert\" onclick=\"convertToInteractive('df-79cfa570-0ad9-46c8-a263-ebaf5fcdf19c')\"\n",
       "              title=\"Convert this dataframe to an interactive table.\"\n",
       "              style=\"display:none;\">\n",
       "        \n",
       "  <svg xmlns=\"http://www.w3.org/2000/svg\" height=\"24px\"viewBox=\"0 0 24 24\"\n",
       "       width=\"24px\">\n",
       "    <path d=\"M0 0h24v24H0V0z\" fill=\"none\"/>\n",
       "    <path d=\"M18.56 5.44l.94 2.06.94-2.06 2.06-.94-2.06-.94-.94-2.06-.94 2.06-2.06.94zm-11 1L8.5 8.5l.94-2.06 2.06-.94-2.06-.94L8.5 2.5l-.94 2.06-2.06.94zm10 10l.94 2.06.94-2.06 2.06-.94-2.06-.94-.94-2.06-.94 2.06-2.06.94z\"/><path d=\"M17.41 7.96l-1.37-1.37c-.4-.4-.92-.59-1.43-.59-.52 0-1.04.2-1.43.59L10.3 9.45l-7.72 7.72c-.78.78-.78 2.05 0 2.83L4 21.41c.39.39.9.59 1.41.59.51 0 1.02-.2 1.41-.59l7.78-7.78 2.81-2.81c.8-.78.8-2.07 0-2.86zM5.41 20L4 18.59l7.72-7.72 1.47 1.35L5.41 20z\"/>\n",
       "  </svg>\n",
       "      </button>\n",
       "      \n",
       "  <style>\n",
       "    .colab-df-container {\n",
       "      display:flex;\n",
       "      flex-wrap:wrap;\n",
       "      gap: 12px;\n",
       "    }\n",
       "\n",
       "    .colab-df-convert {\n",
       "      background-color: #E8F0FE;\n",
       "      border: none;\n",
       "      border-radius: 50%;\n",
       "      cursor: pointer;\n",
       "      display: none;\n",
       "      fill: #1967D2;\n",
       "      height: 32px;\n",
       "      padding: 0 0 0 0;\n",
       "      width: 32px;\n",
       "    }\n",
       "\n",
       "    .colab-df-convert:hover {\n",
       "      background-color: #E2EBFA;\n",
       "      box-shadow: 0px 1px 2px rgba(60, 64, 67, 0.3), 0px 1px 3px 1px rgba(60, 64, 67, 0.15);\n",
       "      fill: #174EA6;\n",
       "    }\n",
       "\n",
       "    [theme=dark] .colab-df-convert {\n",
       "      background-color: #3B4455;\n",
       "      fill: #D2E3FC;\n",
       "    }\n",
       "\n",
       "    [theme=dark] .colab-df-convert:hover {\n",
       "      background-color: #434B5C;\n",
       "      box-shadow: 0px 1px 3px 1px rgba(0, 0, 0, 0.15);\n",
       "      filter: drop-shadow(0px 1px 2px rgba(0, 0, 0, 0.3));\n",
       "      fill: #FFFFFF;\n",
       "    }\n",
       "  </style>\n",
       "\n",
       "      <script>\n",
       "        const buttonEl =\n",
       "          document.querySelector('#df-79cfa570-0ad9-46c8-a263-ebaf5fcdf19c button.colab-df-convert');\n",
       "        buttonEl.style.display =\n",
       "          google.colab.kernel.accessAllowed ? 'block' : 'none';\n",
       "\n",
       "        async function convertToInteractive(key) {\n",
       "          const element = document.querySelector('#df-79cfa570-0ad9-46c8-a263-ebaf5fcdf19c');\n",
       "          const dataTable =\n",
       "            await google.colab.kernel.invokeFunction('convertToInteractive',\n",
       "                                                     [key], {});\n",
       "          if (!dataTable) return;\n",
       "\n",
       "          const docLinkHtml = 'Like what you see? Visit the ' +\n",
       "            '<a target=\"_blank\" href=https://colab.research.google.com/notebooks/data_table.ipynb>data table notebook</a>'\n",
       "            + ' to learn more about interactive tables.';\n",
       "          element.innerHTML = '';\n",
       "          dataTable['output_type'] = 'display_data';\n",
       "          await google.colab.output.renderOutput(dataTable, element);\n",
       "          const docLink = document.createElement('div');\n",
       "          docLink.innerHTML = docLinkHtml;\n",
       "          element.appendChild(docLink);\n",
       "        }\n",
       "      </script>\n",
       "    </div>\n",
       "  </div>\n",
       "  "
      ],
      "text/plain": [
       "           answer_text                                           question  \\\n",
       "0                Tidal  Beyonce released the song \"Formation\" on which...   \n",
       "1            Formation  Beyonce's new single released before the super...   \n",
       "2     February 6, 2016  What day did Beyonce release her single, Forma...   \n",
       "3                Tidal        What was the name of the streaming service?   \n",
       "4      music streaming       What kind of platform was the song released?   \n",
       "...                ...                                                ...   \n",
       "3347              1990    when was madonna's hit single \"vogue\" released?   \n",
       "3348             1990s  what decade did house music hit the mainstream...   \n",
       "3349           Madonna                   who sang the hit single \"vogue\"?   \n",
       "3350         its roots  There has been a reunification of contemporary...   \n",
       "3351   hip hop and R&B  What genre of artists has recently turned to h...   \n",
       "\n",
       "                                                context  \n",
       "0     On February 6, 2016, one day before her perfor...  \n",
       "1     On February 6, 2016, one day before her perfor...  \n",
       "2     On February 6, 2016, one day before her perfor...  \n",
       "3     On February 6, 2016, one day before her perfor...  \n",
       "4     On February 6, 2016, one day before her perfor...  \n",
       "...                                                 ...  \n",
       "3347  The early 1990s additionally saw the rise in m...  \n",
       "3348  The early 1990s additionally saw the rise in m...  \n",
       "3349  The early 1990s additionally saw the rise in m...  \n",
       "3350  In addition to these popular examples of house...  \n",
       "3351  In addition to these popular examples of house...  \n",
       "\n",
       "[3352 rows x 3 columns]"
      ]
     },
     "execution_count": 73,
     "metadata": {},
     "output_type": "execute_result"
    }
   ],
   "source": [
    "temp_df=train_df.copy()\n",
    "temp_df"
   ]
  },
  {
   "cell_type": "code",
   "execution_count": null,
   "metadata": {
    "id": "c-qpeWly-_pu"
   },
   "outputs": [],
   "source": [
    "for i in range(len(temp_df['question'])):\n",
    "  que=str(temp_df['question'][i])\n",
    "  if(que.find('when')==-1):\n",
    "    temp_df['question'][i]=np.nan"
   ]
  },
  {
   "cell_type": "code",
   "execution_count": null,
   "metadata": {
    "id": "uGqTfOsV-_ry"
   },
   "outputs": [],
   "source": [
    "when_df=temp_df.dropna()\n",
    "when_df=when_df.reset_index()"
   ]
  },
  {
   "cell_type": "code",
   "execution_count": null,
   "metadata": {
    "id": "7Rrr1qoB-_tz"
   },
   "outputs": [],
   "source": [
    "when_df.drop(['index'],axis=1,inplace=True)"
   ]
  },
  {
   "cell_type": "code",
   "execution_count": null,
   "metadata": {
    "id": "6izMmgnB-_vP"
   },
   "outputs": [],
   "source": [
    "when_df['context']=when_df['context'].apply(lambda x: gensim.utils.simple_preprocess(x))\n",
    "when_df['question']=when_df['question'].apply(lambda x: gensim.utils.simple_preprocess(str(x)))"
   ]
  },
  {
   "cell_type": "code",
   "execution_count": null,
   "metadata": {
    "id": "fMay_aoY-_yn"
   },
   "outputs": [],
   "source": [
    "when_df=when_df[when_df.columns[::-1]]"
   ]
  },
  {
   "cell_type": "code",
   "execution_count": null,
   "metadata": {
    "colab": {
     "base_uri": "https://localhost:8080/"
    },
    "id": "ExIu5aTU_0wh",
    "outputId": "fd16c2a4-ac08-419f-c351-57a77ef926ed"
   },
   "outputs": [
    {
     "name": "stdout",
     "output_type": "stream",
     "text": [
      "(list(['in', 'october', 'beyoncé', 'signed', 'deal', 'to', 'launch', 'an', 'activewear', 'line', 'of', 'clothing', 'with', 'british', 'fashion', 'retailer', 'topshop', 'the', 'venture', 'is', 'called', 'parkwood', 'topshop', 'athletic', 'ltd', 'and', 'is', 'scheduled', 'to', 'launch', 'its', 'first', 'dance', 'fitness', 'and', 'sports', 'ranges', 'in', 'autumn', 'the', 'line', 'will', 'launch', 'in', 'april']), list(['beyonce', 'and', 'topshops', 'first', 'products', 'were', 'to', 'be', 'sold', 'in', 'stores', 'when']), 'autumn 2015')\n"
     ]
    }
   ],
   "source": [
    "when_df_records=when_df.to_records(index=False)\n",
    "when_df_records = list(when_df_records)\n",
    "print(when_df_records[0])"
   ]
  },
  {
   "cell_type": "code",
   "execution_count": null,
   "metadata": {
    "id": "HoGjI24YALvp"
   },
   "outputs": [],
   "source": [
    "inputs_when, queries_when, answers_when = vectorize_stories(when_df_records,\n",
    "                                                               word_idx,\n",
    "                                                               story_maxlen,\n",
    "                                                               query_maxlen)"
   ]
  },
  {
   "cell_type": "code",
   "execution_count": null,
   "metadata": {
    "colab": {
     "base_uri": "https://localhost:8080/"
    },
    "id": "tw-B5C6aAa8P",
    "outputId": "05940fbe-c30d-416c-eb95-7478b18bc9a9"
   },
   "outputs": [
    {
     "name": "stdout",
     "output_type": "stream",
     "text": [
      "2/2 [==============================] - 0s 59ms/step - loss: 8.3401 - accuracy: 0.0435 - f1_m: 0.0000e+00 - precision_m: 0.0000e+00 - recall_m: 0.0000e+00\n"
     ]
    },
    {
     "data": {
      "text/plain": [
       "<keras.callbacks.History at 0x7f61c68ca6d0>"
      ]
     },
     "execution_count": 82,
     "metadata": {},
     "output_type": "execute_result"
    }
   ],
   "source": [
    "reconstructed_model.fit([inputs_when, queries_when], answers_when)"
   ]
  },
  {
   "cell_type": "markdown",
   "metadata": {
    "id": "NWfJzGSgaKda"
   },
   "source": [
    "#where"
   ]
  },
  {
   "cell_type": "code",
   "execution_count": null,
   "metadata": {
    "colab": {
     "base_uri": "https://localhost:8080/",
     "height": 423
    },
    "id": "Zm56AS0EaMag",
    "outputId": "a7a38008-a95a-4fc2-9b0b-b7d4dde35087"
   },
   "outputs": [
    {
     "data": {
      "text/html": [
       "\n",
       "  <div id=\"df-9d516405-2037-4ded-9dc2-919edfafa813\">\n",
       "    <div class=\"colab-df-container\">\n",
       "      <div>\n",
       "<style scoped>\n",
       "    .dataframe tbody tr th:only-of-type {\n",
       "        vertical-align: middle;\n",
       "    }\n",
       "\n",
       "    .dataframe tbody tr th {\n",
       "        vertical-align: top;\n",
       "    }\n",
       "\n",
       "    .dataframe thead th {\n",
       "        text-align: right;\n",
       "    }\n",
       "</style>\n",
       "<table border=\"1\" class=\"dataframe\">\n",
       "  <thead>\n",
       "    <tr style=\"text-align: right;\">\n",
       "      <th></th>\n",
       "      <th>answer_text</th>\n",
       "      <th>question</th>\n",
       "      <th>context</th>\n",
       "    </tr>\n",
       "  </thead>\n",
       "  <tbody>\n",
       "    <tr>\n",
       "      <th>0</th>\n",
       "      <td>Tidal</td>\n",
       "      <td>Beyonce released the song \"Formation\" on which...</td>\n",
       "      <td>On February 6, 2016, one day before her perfor...</td>\n",
       "    </tr>\n",
       "    <tr>\n",
       "      <th>1</th>\n",
       "      <td>Formation</td>\n",
       "      <td>Beyonce's new single released before the super...</td>\n",
       "      <td>On February 6, 2016, one day before her perfor...</td>\n",
       "    </tr>\n",
       "    <tr>\n",
       "      <th>2</th>\n",
       "      <td>February 6, 2016</td>\n",
       "      <td>What day did Beyonce release her single, Forma...</td>\n",
       "      <td>On February 6, 2016, one day before her perfor...</td>\n",
       "    </tr>\n",
       "    <tr>\n",
       "      <th>3</th>\n",
       "      <td>Tidal</td>\n",
       "      <td>What was the name of the streaming service?</td>\n",
       "      <td>On February 6, 2016, one day before her perfor...</td>\n",
       "    </tr>\n",
       "    <tr>\n",
       "      <th>4</th>\n",
       "      <td>music streaming</td>\n",
       "      <td>What kind of platform was the song released?</td>\n",
       "      <td>On February 6, 2016, one day before her perfor...</td>\n",
       "    </tr>\n",
       "    <tr>\n",
       "      <th>...</th>\n",
       "      <td>...</td>\n",
       "      <td>...</td>\n",
       "      <td>...</td>\n",
       "    </tr>\n",
       "    <tr>\n",
       "      <th>3347</th>\n",
       "      <td>1990</td>\n",
       "      <td>when was madonna's hit single \"vogue\" released?</td>\n",
       "      <td>The early 1990s additionally saw the rise in m...</td>\n",
       "    </tr>\n",
       "    <tr>\n",
       "      <th>3348</th>\n",
       "      <td>1990s</td>\n",
       "      <td>what decade did house music hit the mainstream...</td>\n",
       "      <td>The early 1990s additionally saw the rise in m...</td>\n",
       "    </tr>\n",
       "    <tr>\n",
       "      <th>3349</th>\n",
       "      <td>Madonna</td>\n",
       "      <td>who sang the hit single \"vogue\"?</td>\n",
       "      <td>The early 1990s additionally saw the rise in m...</td>\n",
       "    </tr>\n",
       "    <tr>\n",
       "      <th>3350</th>\n",
       "      <td>its roots</td>\n",
       "      <td>There has been a reunification of contemporary...</td>\n",
       "      <td>In addition to these popular examples of house...</td>\n",
       "    </tr>\n",
       "    <tr>\n",
       "      <th>3351</th>\n",
       "      <td>hip hop and R&amp;B</td>\n",
       "      <td>What genre of artists has recently turned to h...</td>\n",
       "      <td>In addition to these popular examples of house...</td>\n",
       "    </tr>\n",
       "  </tbody>\n",
       "</table>\n",
       "<p>3352 rows × 3 columns</p>\n",
       "</div>\n",
       "      <button class=\"colab-df-convert\" onclick=\"convertToInteractive('df-9d516405-2037-4ded-9dc2-919edfafa813')\"\n",
       "              title=\"Convert this dataframe to an interactive table.\"\n",
       "              style=\"display:none;\">\n",
       "        \n",
       "  <svg xmlns=\"http://www.w3.org/2000/svg\" height=\"24px\"viewBox=\"0 0 24 24\"\n",
       "       width=\"24px\">\n",
       "    <path d=\"M0 0h24v24H0V0z\" fill=\"none\"/>\n",
       "    <path d=\"M18.56 5.44l.94 2.06.94-2.06 2.06-.94-2.06-.94-.94-2.06-.94 2.06-2.06.94zm-11 1L8.5 8.5l.94-2.06 2.06-.94-2.06-.94L8.5 2.5l-.94 2.06-2.06.94zm10 10l.94 2.06.94-2.06 2.06-.94-2.06-.94-.94-2.06-.94 2.06-2.06.94z\"/><path d=\"M17.41 7.96l-1.37-1.37c-.4-.4-.92-.59-1.43-.59-.52 0-1.04.2-1.43.59L10.3 9.45l-7.72 7.72c-.78.78-.78 2.05 0 2.83L4 21.41c.39.39.9.59 1.41.59.51 0 1.02-.2 1.41-.59l7.78-7.78 2.81-2.81c.8-.78.8-2.07 0-2.86zM5.41 20L4 18.59l7.72-7.72 1.47 1.35L5.41 20z\"/>\n",
       "  </svg>\n",
       "      </button>\n",
       "      \n",
       "  <style>\n",
       "    .colab-df-container {\n",
       "      display:flex;\n",
       "      flex-wrap:wrap;\n",
       "      gap: 12px;\n",
       "    }\n",
       "\n",
       "    .colab-df-convert {\n",
       "      background-color: #E8F0FE;\n",
       "      border: none;\n",
       "      border-radius: 50%;\n",
       "      cursor: pointer;\n",
       "      display: none;\n",
       "      fill: #1967D2;\n",
       "      height: 32px;\n",
       "      padding: 0 0 0 0;\n",
       "      width: 32px;\n",
       "    }\n",
       "\n",
       "    .colab-df-convert:hover {\n",
       "      background-color: #E2EBFA;\n",
       "      box-shadow: 0px 1px 2px rgba(60, 64, 67, 0.3), 0px 1px 3px 1px rgba(60, 64, 67, 0.15);\n",
       "      fill: #174EA6;\n",
       "    }\n",
       "\n",
       "    [theme=dark] .colab-df-convert {\n",
       "      background-color: #3B4455;\n",
       "      fill: #D2E3FC;\n",
       "    }\n",
       "\n",
       "    [theme=dark] .colab-df-convert:hover {\n",
       "      background-color: #434B5C;\n",
       "      box-shadow: 0px 1px 3px 1px rgba(0, 0, 0, 0.15);\n",
       "      filter: drop-shadow(0px 1px 2px rgba(0, 0, 0, 0.3));\n",
       "      fill: #FFFFFF;\n",
       "    }\n",
       "  </style>\n",
       "\n",
       "      <script>\n",
       "        const buttonEl =\n",
       "          document.querySelector('#df-9d516405-2037-4ded-9dc2-919edfafa813 button.colab-df-convert');\n",
       "        buttonEl.style.display =\n",
       "          google.colab.kernel.accessAllowed ? 'block' : 'none';\n",
       "\n",
       "        async function convertToInteractive(key) {\n",
       "          const element = document.querySelector('#df-9d516405-2037-4ded-9dc2-919edfafa813');\n",
       "          const dataTable =\n",
       "            await google.colab.kernel.invokeFunction('convertToInteractive',\n",
       "                                                     [key], {});\n",
       "          if (!dataTable) return;\n",
       "\n",
       "          const docLinkHtml = 'Like what you see? Visit the ' +\n",
       "            '<a target=\"_blank\" href=https://colab.research.google.com/notebooks/data_table.ipynb>data table notebook</a>'\n",
       "            + ' to learn more about interactive tables.';\n",
       "          element.innerHTML = '';\n",
       "          dataTable['output_type'] = 'display_data';\n",
       "          await google.colab.output.renderOutput(dataTable, element);\n",
       "          const docLink = document.createElement('div');\n",
       "          docLink.innerHTML = docLinkHtml;\n",
       "          element.appendChild(docLink);\n",
       "        }\n",
       "      </script>\n",
       "    </div>\n",
       "  </div>\n",
       "  "
      ],
      "text/plain": [
       "           answer_text                                           question  \\\n",
       "0                Tidal  Beyonce released the song \"Formation\" on which...   \n",
       "1            Formation  Beyonce's new single released before the super...   \n",
       "2     February 6, 2016  What day did Beyonce release her single, Forma...   \n",
       "3                Tidal        What was the name of the streaming service?   \n",
       "4      music streaming       What kind of platform was the song released?   \n",
       "...                ...                                                ...   \n",
       "3347              1990    when was madonna's hit single \"vogue\" released?   \n",
       "3348             1990s  what decade did house music hit the mainstream...   \n",
       "3349           Madonna                   who sang the hit single \"vogue\"?   \n",
       "3350         its roots  There has been a reunification of contemporary...   \n",
       "3351   hip hop and R&B  What genre of artists has recently turned to h...   \n",
       "\n",
       "                                                context  \n",
       "0     On February 6, 2016, one day before her perfor...  \n",
       "1     On February 6, 2016, one day before her perfor...  \n",
       "2     On February 6, 2016, one day before her perfor...  \n",
       "3     On February 6, 2016, one day before her perfor...  \n",
       "4     On February 6, 2016, one day before her perfor...  \n",
       "...                                                 ...  \n",
       "3347  The early 1990s additionally saw the rise in m...  \n",
       "3348  The early 1990s additionally saw the rise in m...  \n",
       "3349  The early 1990s additionally saw the rise in m...  \n",
       "3350  In addition to these popular examples of house...  \n",
       "3351  In addition to these popular examples of house...  \n",
       "\n",
       "[3352 rows x 3 columns]"
      ]
     },
     "execution_count": 92,
     "metadata": {},
     "output_type": "execute_result"
    }
   ],
   "source": [
    "temp_df=train_df.copy()\n",
    "temp_df"
   ]
  },
  {
   "cell_type": "code",
   "execution_count": null,
   "metadata": {
    "id": "Zu7GbTBPA7WK"
   },
   "outputs": [],
   "source": [
    "for i in range(len(temp_df['question'])):\n",
    "  que=str(temp_df['question'][i])\n",
    "  if(que.find('where')==-1):\n",
    "    temp_df['question'][i]=np.nan"
   ]
  },
  {
   "cell_type": "code",
   "execution_count": null,
   "metadata": {
    "id": "JPnLbAgCA7Yn"
   },
   "outputs": [],
   "source": [
    "where_df=temp_df.dropna()\n",
    "where_df=where_df.reset_index()\n",
    "where_df.drop(['index'],axis=1,inplace=True)"
   ]
  },
  {
   "cell_type": "code",
   "execution_count": null,
   "metadata": {
    "id": "vR21gEL6BYh5"
   },
   "outputs": [],
   "source": [
    "where_df['context']=where_df['context'].apply(lambda x: gensim.utils.simple_preprocess(x))\n",
    "where_df['question']=where_df['question'].apply(lambda x: gensim.utils.simple_preprocess(str(x)))\n",
    "where_df=where_df[where_df.columns[::-1]]"
   ]
  },
  {
   "cell_type": "code",
   "execution_count": null,
   "metadata": {
    "colab": {
     "base_uri": "https://localhost:8080/"
    },
    "id": "RIwUV8RLBe8r",
    "outputId": "77127cba-bafa-4863-b3f1-3dffc75883ac"
   },
   "outputs": [
    {
     "name": "stdout",
     "output_type": "stream",
     "text": [
      "(list(['the', 'idea', 'of', 'the', 'decline', 'and', 'gradual', 'disappearance', 'of', 'the', 'teaching', 'has', 'been', 'influential', 'in', 'east', 'asian', 'buddhism', 'pure', 'land', 'buddhism', 'holds', 'that', 'it', 'has', 'declined', 'to', 'the', 'point', 'where', 'few', 'are', 'capable', 'of', 'following', 'the', 'path', 'so', 'it', 'may', 'be', 'best', 'to', 'rely', 'on', 'the', 'power', 'of', 'amitābha']), list(['what', 'form', 'of', 'buddhism', 'has', 'declined', 'to', 'the', 'point', 'where', 'few', 'are', 'capable', 'of', 'following', 'the', 'path']), 'Pure Land')\n"
     ]
    }
   ],
   "source": [
    "where_df_records=where_df.to_records(index=False)\n",
    "where_df_records = list(where_df_records)\n",
    "print(where_df_records[0])"
   ]
  },
  {
   "cell_type": "code",
   "execution_count": null,
   "metadata": {
    "id": "V0BiWnQ_A7bC"
   },
   "outputs": [],
   "source": [
    "inputs_where, queries_where, answers_where = vectorize_stories(where_df_records,\n",
    "                                                               word_idx,\n",
    "                                                               story_maxlen,\n",
    "                                                               query_maxlen)"
   ]
  },
  {
   "cell_type": "code",
   "execution_count": null,
   "metadata": {
    "colab": {
     "base_uri": "https://localhost:8080/"
    },
    "id": "oUCUZZKgA7eh",
    "outputId": "75dd402b-ba3e-479b-e728-85500f73d46d"
   },
   "outputs": [
    {
     "name": "stdout",
     "output_type": "stream",
     "text": [
      "2/2 [==============================] - 0s 68ms/step - loss: 7.4580 - accuracy: 0.0882 - f1_m: 0.0000e+00 - precision_m: 0.0000e+00 - recall_m: 0.0000e+00\n"
     ]
    },
    {
     "data": {
      "text/plain": [
       "<keras.callbacks.History at 0x7f61c62d8850>"
      ]
     },
     "execution_count": 98,
     "metadata": {},
     "output_type": "execute_result"
    }
   ],
   "source": [
    "reconstructed_model.fit([inputs_where, queries_where], answers_where)"
   ]
  },
  {
   "cell_type": "code",
   "execution_count": null,
   "metadata": {
    "id": "wl2GeuGaA7ko"
   },
   "outputs": [],
   "source": []
  },
  {
   "cell_type": "markdown",
   "metadata": {
    "id": "2U55pV-VaPNZ"
   },
   "source": [
    "#which"
   ]
  },
  {
   "cell_type": "code",
   "execution_count": null,
   "metadata": {
    "id": "Tjl5hjfDaQzL"
   },
   "outputs": [],
   "source": [
    "temp_df=train_df.copy()\n",
    "temp_df"
   ]
  },
  {
   "cell_type": "code",
   "execution_count": null,
   "metadata": {
    "id": "66n5Ga9qlZ4V"
   },
   "outputs": [],
   "source": []
  }
 ],
 "metadata": {
  "accelerator": "TPU",
  "colab": {
   "collapsed_sections": [
    "cjhvlBuw8fWS",
    "evvuzhqJaqCQ",
    "uhW0SrWlaCTA",
    "DsaABbDhaE79",
    "aufJeCQsaG-v",
    "NWfJzGSgaKda",
    "2U55pV-VaPNZ"
   ],
   "name": "Question_Answering.ipynb",
   "provenance": []
  },
  "kernelspec": {
   "display_name": "Python 3",
   "language": "python",
   "name": "python3"
  },
  "language_info": {
   "codemirror_mode": {
    "name": "ipython",
    "version": 3
   },
   "file_extension": ".py",
   "mimetype": "text/x-python",
   "name": "python",
   "nbconvert_exporter": "python",
   "pygments_lexer": "ipython3",
   "version": "3.7.1"
  }
 },
 "nbformat": 4,
 "nbformat_minor": 1
}
